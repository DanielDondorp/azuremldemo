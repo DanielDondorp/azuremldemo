{
 "cells": [
  {
   "cell_type": "code",
   "execution_count": 1,
   "metadata": {},
   "outputs": [
    {
     "name": "stderr",
     "output_type": "stream",
     "text": [
      "AzureCliCredential.get_token failed: ERROR: AADSTS70043: The refresh token has expired or is invalid due to sign-in frequency checks by conditional access. The token was issued on 2025-04-01T06:22:55.4629892Z and the maximum allowed lifetime for this request is 14400. Trace ID: 45106e2e-d82f-4110-82b1-0205d53c1700 Correlation ID: 53c5813f-6bd2-4ee0-be52-146ae5291245 Timestamp: 2025-04-03 06:57:52Z\n",
      "Interactive authentication is needed. Please run:\n",
      "az login --scope https://management.azure.com/.default\n",
      "\n"
     ]
    }
   ],
   "source": [
    "# Handle to the workspace\n",
    "from azure.ai.ml import MLClient\n",
    "\n",
    "# Authentication package\n",
    "from azure.identity import DefaultAzureCredential, InteractiveBrowserCredential, AzureCliCredential\n",
    "\n",
    "try:\n",
    "    credential = AzureCliCredential()\n",
    "    # Check if given credential can get token successfully.\n",
    "    credential.get_token(\"https://management.azure.com/.default\")\n",
    "except Exception as ex:\n",
    "    # Fall back to InteractiveBrowserCredential in case DefaultAzureCredential not work\n",
    "    credential = InteractiveBrowserCredential()"
   ]
  },
  {
   "cell_type": "code",
   "execution_count": 2,
   "metadata": {},
   "outputs": [
    {
     "name": "stderr",
     "output_type": "stream",
     "text": [
      "Found the config file in: /home/daniel/repos/aml_demo/config.json\n"
     ]
    }
   ],
   "source": [
    "ml_client = MLClient.from_config(credential)"
   ]
  },
  {
   "cell_type": "code",
   "execution_count": 3,
   "metadata": {},
   "outputs": [],
   "source": [
    "from azure.ai.ml.entities import Data\n",
    "from azure.ai.ml.constants import AssetTypes"
   ]
  },
  {
   "cell_type": "code",
   "execution_count": 23,
   "metadata": {},
   "outputs": [],
   "source": [
    "#lets register the catsanddogs dataset:\n",
    "cats_and_dogs_data = Data(\n",
    "                          name=\"catsanddogs_flat\", \n",
    "                          path=\"../data/catsanddogs_flat\",\n",
    "                          type=AssetTypes.URI_FOLDER,\n",
    "                          description=\"A dataset containing images of cats and dogs\"\n",
    "                          )"
   ]
  },
  {
   "cell_type": "code",
   "execution_count": 24,
   "metadata": {},
   "outputs": [],
   "source": [
    "# cats_and_dogs_data = ml_client.data.create_or_update(cats_and_dogs_data)"
   ]
  },
  {
   "cell_type": "code",
   "execution_count": 25,
   "metadata": {},
   "outputs": [],
   "source": [
    "cats_and_dogs_data = ml_client.data.get(\"catsanddogs_flat\", version=1)"
   ]
  },
  {
   "cell_type": "code",
   "execution_count": 8,
   "metadata": {},
   "outputs": [
    {
     "name": "stdout",
     "output_type": "stream",
     "text": [
      "Writing ../environments/catsandogsenv.yaml\n"
     ]
    }
   ],
   "source": [
    "%%writefile ../environments/catsandogsenv.yaml\n",
    "name: catsanddogsenv\n",
    "channels:\n",
    "  - conda-forge\n",
    "dependencies:\n",
    "  - python=3.8\n",
    "  - numpy=1.21.2\n",
    "  - pip=21.2.4\n",
    "  - scikit-learn=0.24.2\n",
    "  - scipy=1.7.1\n",
    "  - pandas>=1.1,<1.2\n",
    "  - pip:\n",
    "    - tensorflow \n",
    "    - keras\n",
    "    - azureml-mlflow==1.42.0\n",
    "    - azureml-core\n",
    "    - azure-core\n",
    "    - azure-ai-ml\n",
    "    - pillow"
   ]
  },
  {
   "cell_type": "code",
   "execution_count": 6,
   "metadata": {},
   "outputs": [],
   "source": [
    "from azure.ai.ml.entities import Environment\n",
    "\n",
    "custom_env_name = \"catsanddogsenv\"\n",
    "\n",
    "catsanddogsenv = Environment(\n",
    "    name=custom_env_name,\n",
    "    description=\"Custom environment for Cats and Dogs\",\n",
    "    tags={\"scikit-learn\": \"0.24.2\"},\n",
    "    conda_file= \"../environments/catsandogsenv.yaml\",\n",
    "    image=\"mcr.microsoft.com/azureml/openmpi4.1.0-ubuntu20.04:latest\",\n",
    "    )"
   ]
  },
  {
   "cell_type": "code",
   "execution_count": 7,
   "metadata": {},
   "outputs": [],
   "source": [
    "# ml_client.environments.create_or_update(catsanddogsenv)\n"
   ]
  },
  {
   "cell_type": "code",
   "execution_count": 8,
   "metadata": {},
   "outputs": [],
   "source": [
    "import os\n",
    "os.makedirs(\"../components/catsanddogsprep\", exist_ok=True)\n",
    "\n",
    "os.makedirs(\"../components/catsanddogstrain\", exist_ok=True)"
   ]
  },
  {
   "cell_type": "code",
   "execution_count": 9,
   "metadata": {},
   "outputs": [
    {
     "name": "stdout",
     "output_type": "stream",
     "text": [
      "Overwriting ../components/catsanddogsprep/castanddogsprep.py\n"
     ]
    }
   ],
   "source": [
    "%%writefile ../components/catsanddogsprep/castanddogsprep.py \n",
    "#components for inspecting the cats and dogs dataset\n",
    "\n",
    "import os\n",
    "import argparse\n",
    "import glob \n",
    "import mlflow\n",
    "import numpy as np\n",
    "import shutil\n",
    "\n",
    "def main():\n",
    "    parser = argparse.ArgumentParser(description=\"Inspect the Cats and Dogs dataset, split it out into test and training sets\")\n",
    "    parser.add_argument(\"--datafolder\", type=str, help=\"Path to the folder containing the Cats and Dogs dataset\")\n",
    "    parser.add_argument(\"--test_train_ratio\", type=float, required=False, default=0.25)\n",
    "    parser.add_argument(\"--train_data\", type=str, help=\"path to train data\")\n",
    "    parser.add_argument(\"--test_data\", type=str, help=\"path to test data\")\n",
    "    args = parser.parse_args()\n",
    "    \n",
    "    mlflow.start_run()\n",
    "    datafolder = args.datafolder\n",
    "    print(f\"Data folder: {datafolder}\")\n",
    "    \n",
    "    # Log the data folder path\n",
    "    mlflow.log_param(\"datafolder\", datafolder)\n",
    "    \n",
    "    # Get the number of files in the data folder\n",
    "    num_folders = len(os.listdir(datafolder))\n",
    "    print(f\"Number of subfolders in the data folder: {num_folders}\")\n",
    "\n",
    "    # Log the number of files\n",
    "    mlflow.log_metric(\"num_files\", num_folders)\n",
    "    \n",
    "    images = glob.glob(datafolder + \"/**/*.jpg\", recursive=True)   \n",
    "    print(f\"Number of images in the data folder: {len(images)}\")\n",
    "    base_path = os.path.dirname(datafolder)\n",
    "    training_path = args.train_data\n",
    "    test_path = args.test_data\n",
    "\n",
    "    # Write data to train_data and test_data paths\n",
    "    print(f\"Writing training data to: {args.train_data}\")\n",
    "    print(f\"Writing test data to: {args.test_data}\")\n",
    "\n",
    "    for species in [\"cat\", \"dog\"]:\n",
    "        species_images = [img for img in images if species in img]\n",
    "        os.makedirs(os.path.join(training_path, species), exist_ok=True)\n",
    "        os.makedirs(os.path.join(test_path, species), exist_ok=True)\n",
    "        n_training = int(len(species_images) * (1-args.test_train_ratio))\n",
    "        print(f\"Species: {species}, Total images: {len(species_images)}, Training images: {n_training}\")\n",
    "        training_images = np.random.choice(species_images, n_training, replace=False)\n",
    "        test_images = [img for img in species_images if img not in training_images]\n",
    "        for img in training_images:\n",
    "            destination_path = os.path.join(training_path, species, os.path.basename(img))\n",
    "            shutil.copy(img, destination_path)\n",
    "        mlflow.log_metric(f\"training_{species}\", len(training_images))\n",
    "        for img in test_images:\n",
    "            test_destination_path = os.path.join(test_path, species, os.path.basename(img))\n",
    "            shutil.copy(img, test_destination_path)\n",
    "        mlflow.log_metric(f\"test_{species}\", len(test_images))\n",
    "\n",
    "    print(os.listdir(training_path))\n",
    "    for species in os.listdir(training_path):\n",
    "        print(f\"Number of {species} images in the training set: {len(os.listdir(os.path.join(training_path, species)))}\")\n",
    "    print(os.listdir(test_path))\n",
    "    for species in os.listdir(test_path):\n",
    "        print(f\"Number of {species} images in the test set: {len(os.listdir(os.path.join(test_path, species)))}\")\n",
    "\n",
    "    mlflow.end_run()\n",
    "\n",
    "if __name__ == \"__main__\":\n",
    "    main()"
   ]
  },
  {
   "cell_type": "code",
   "execution_count": 10,
   "metadata": {},
   "outputs": [
    {
     "name": "stdout",
     "output_type": "stream",
     "text": [
      "Overwriting ../components/catsanddogstrain/catsanddogstrain.py\n"
     ]
    }
   ],
   "source": [
    "%%writefile ../components/catsanddogstrain/catsanddogstrain.py\n",
    "import os\n",
    "import argparse\n",
    "import glob \n",
    "import mlflow\n",
    "\n",
    "import keras\n",
    "from keras.preprocessing.image import ImageDataGenerator\n",
    "import tensorflow as tf\n",
    "from keras.models import Sequential\n",
    "from keras import layers\n",
    "from tensorflow.keras.optimizers import Adam\n",
    "\n",
    "os.makedirs(\"./outputs\", exist_ok=True)\n",
    "\n",
    "def main():\n",
    "    parser = argparse.ArgumentParser(description=\"Inspect the Cats and Dogs dataset\")\n",
    "    parser.add_argument(\"--train_data\", type=str, help=\"path to train data\")\n",
    "    parser.add_argument(\"--test_data\", type=str, help=\"path to test data\")\n",
    "    parser.add_argument(\"--epochs\", type=int, required=False, default=10)\n",
    "    parser.add_argument(\"--model_name\", type=str, required=False, default=\"catsanddogs_model.keras\")\n",
    "    \n",
    "    args = parser.parse_args()\n",
    "\n",
    "    mlflow.start_run()\n",
    "    train_data = args.train_data\n",
    "    test_data = args.test_data\n",
    "    #print number of files in train and test data\n",
    "    num_train_files = len(os.listdir(train_data))\n",
    "    num_test_files = len(os.listdir(test_data))\n",
    "    print(f\"Number of files in train data: {num_train_files}\")\n",
    "    print(f\"Number of files in test data: {num_test_files}\")\n",
    "\n",
    "    # construct data sets\n",
    "    # Create dataset\n",
    "    image_size = (200, 200)\n",
    "    batch_size = 32\n",
    "\n",
    "    datagen = ImageDataGenerator()\n",
    "    train_generator = datagen.flow_from_directory(train_data, target_size=image_size, batch_size=batch_size, class_mode='binary')\n",
    "    test_generator = datagen.flow_from_directory(test_data, target_size=image_size, batch_size=batch_size, class_mode='binary')\n",
    "\n",
    "    #construct model\n",
    "    model = Sequential([\n",
    "        layers.InputLayer(input_shape=(200, 200, 3)),\n",
    "        layers.Conv2D(16, 3, padding='same', activation='relu'),\n",
    "        layers.MaxPooling2D(),\n",
    "        layers.Conv2D(32, 3, padding='same', activation='relu'),\n",
    "        layers.MaxPooling2D(),\n",
    "        layers.Conv2D(64, 3, padding='same', activation='relu'),\n",
    "        layers.MaxPooling2D(),\n",
    "        layers.Flatten(),\n",
    "        layers.Dense(128, activation='relu'),\n",
    "        layers.Dense(1, activation='sigmoid')\n",
    "    ])\n",
    "\n",
    "    model.compile(optimizer=Adam(learning_rate=0.001), loss='binary_crossentropy', metrics=['accuracy'])\n",
    "\n",
    "    model.fit(train_generator, validation_data=test_generator, epochs=args.epochs)\n",
    "\n",
    "    model.save(f\"outputs/{args.model_name}\")\n",
    "    print(f\"Model saved to {args.model_name}\")\n",
    "    # Log the model\n",
    "    # mlflow.log_artifact(f\"outputs/{args.model_name}.keras\", artifact_path=\"model\")\n",
    "\n",
    "\n",
    "    mlflow.end_run()\n",
    "\n",
    "if __name__ == \"__main__\":\n",
    "    main()\n"
   ]
  },
  {
   "cell_type": "code",
   "execution_count": 11,
   "metadata": {},
   "outputs": [],
   "source": [
    "from azure.ai.ml import command, Input, Output\n",
    "\n",
    "inputs = {\"datafolder\": Input(type = \"uri_folder\"), \"test_train_ratio\": Input(type = \"number\", default=0.25)}\n",
    "outputs={\"train_data\": Output(type=\"uri_folder\", mode=\"rw_mount\"), \"test_data\": Output(type=\"uri_folder\", mode=\"rw_mount\")}\n",
    "\n",
    "catsanddogsprep = command(\n",
    "    name=\"catsanddogsprep\",\n",
    "    code = \"../components/catsanddogsprep/\",\n",
    "    inputs=inputs,\n",
    "    outputs=outputs,\n",
    "    command = \"\"\"python castanddogsprep.py --datafolder ${{inputs.datafolder}} --test_train_ratio ${{inputs.test_train_ratio}} \\\n",
    "            --train_data ${{outputs.train_data}} --test_data ${{outputs.test_data}} \\\n",
    "            \"\"\",\n",
    "    environment=\"catsanddogsenv:1\",\n",
    ")"
   ]
  },
  {
   "cell_type": "code",
   "execution_count": 12,
   "metadata": {},
   "outputs": [],
   "source": [
    "inputs = {\"train_data\": Input(type = \"uri_folder\"), \"test_data\": Input(type = \"uri_folder\"), \"epochs\": Input(type=\"number\", default=10), \"model_name\": Input(type = \"string\", default=\"catsanddogs_model\")}\n",
    "outputs={\"model\": Output(type=\"uri_folder\", mode=\"rw_mount\")}\n",
    "# outputs={\"model\": Output(type=\"custom_model\")}\n",
    "\n",
    "catsanddogstrain = command(\n",
    "    name=\"catsanddogstrain\",\n",
    "    code = \"../components/catsanddogstrain/\",\n",
    "    inputs=inputs,\n",
    "    outputs=outputs,\n",
    "    command = \"\"\"python catsanddogstrain.py --train_data ${{inputs.train_data}} --test_data ${{inputs.test_data}} --epochs ${{inputs.epochs}} --model_name ${{inputs.model_name}}\"\"\",\n",
    "    environment=\"catsanddogsenv:1\",\n",
    ")"
   ]
  },
  {
   "cell_type": "code",
   "execution_count": 13,
   "metadata": {},
   "outputs": [],
   "source": [
    "#import dsl\n",
    "from azure.ai.ml import dsl"
   ]
  },
  {
   "cell_type": "code",
   "execution_count": 15,
   "metadata": {},
   "outputs": [],
   "source": [
    "@dsl.pipeline(\n",
    "    compute=\"defaultcompute\",\n",
    "    description=\"catsanddogs pipeline test name arg\",\n",
    "    name=\"catsanddogs_pipeline_register_direct\",\n",
    ")\n",
    "def catsanddogs_pipeline(catsanddogs_data_input, test_train_ratio=0.25, epochs=1):\n",
    "    data_prep_job = catsanddogsprep(datafolder = catsanddogs_data_input, test_train_ratio=test_train_ratio)\n",
    "    train_job = catsanddogstrain(train_data=data_prep_job.outputs.train_data, test_data=data_prep_job.outputs.test_data, epochs=epochs)\n",
    "    return {\"train_job_model\": train_job.outputs.model}"
   ]
  },
  {
   "cell_type": "code",
   "execution_count": 16,
   "metadata": {},
   "outputs": [],
   "source": [
    "pipeline = catsanddogs_pipeline(catsanddogs_data_input=cats_and_dogs_data, epochs =1)\n"
   ]
  },
  {
   "cell_type": "code",
   "execution_count": 137,
   "metadata": {},
   "outputs": [
    {
     "name": "stderr",
     "output_type": "stream",
     "text": [
      "Uploading catsanddogstrain (0.0 MBs): 100%|██████████| 2471/2471 [00:00<00:00, 74340.63it/s]\n",
      "\n",
      "\n",
      "pathOnCompute is not a known attribute of class <class 'azure.ai.ml._restclient.v2023_04_01_preview.models._models_py3.UriFolderJobOutput'> and will be ignored\n",
      "pathOnCompute is not a known attribute of class <class 'azure.ai.ml._restclient.v2023_04_01_preview.models._models_py3.UriFolderJobOutput'> and will be ignored\n",
      "pathOnCompute is not a known attribute of class <class 'azure.ai.ml._restclient.v2023_04_01_preview.models._models_py3.UriFolderJobOutput'> and will be ignored\n"
     ]
    },
    {
     "data": {
      "text/html": [
       "<table style=\"width:100%\"><tr><th>Experiment</th><th>Name</th><th>Type</th><th>Status</th><th>Details Page</th></tr><tr><td>notebooks</td><td>strong_cup_wmf496hgv3</td><td>pipeline</td><td>NotStarted</td><td><a href=\"https://ml.azure.com/runs/strong_cup_wmf496hgv3?wsid=/subscriptions/cad4de40-836d-424a-bdd6-3296c5c25179/resourcegroups/rgdaniel/workspaces/amldaniel&amp;tid=8b87af7d-8647-4dc7-8df4-5f69a2011bb5\" target=\"_blank\" rel=\"noopener\">Link to Azure Machine Learning studio</a></td></tr></table>"
      ],
      "text/plain": [
       "PipelineJob({'inputs': {'catsanddogs_data_input': <azure.ai.ml.entities._job.pipeline._io.base.PipelineInput object at 0x7f011075c460>, 'test_train_ratio': <azure.ai.ml.entities._job.pipeline._io.base.PipelineInput object at 0x7f011075f280>, 'epochs': <azure.ai.ml.entities._job.pipeline._io.base.PipelineInput object at 0x7f011075fd00>}, 'outputs': {'train_job_model': <azure.ai.ml.entities._job.pipeline._io.base.PipelineOutput object at 0x7f011075f220>}, 'jobs': {}, 'component': PipelineComponent({'latest_version': None, 'intellectual_property': None, 'auto_increment_version': False, 'source': 'REMOTE.WORKSPACE.JOB', 'is_anonymous': True, 'auto_delete_setting': None, 'name': 'azureml_anonymous', 'description': 'catsanddogs pipeline test name arg', 'tags': {}, 'properties': {}, 'print_as_yaml': False, 'id': None, 'Resource__source_path': None, 'base_path': '/home/daniel/repos/aml_demo/notebooks', 'creation_context': None, 'serialize': <msrest.serialization.Serializer object at 0x7f011075d120>, 'version': '1', 'schema': None, 'type': 'pipeline', 'display_name': 'catsanddogs_pipeline_register_direct', 'is_deterministic': None, 'inputs': {'catsanddogs_data_input': {}, 'test_train_ratio': {}, 'epochs': {}}, 'outputs': {'train_job_model': {}}, 'yaml_str': None, 'other_parameter': {}, 'jobs': {'data_prep_job': Command({'parameters': {}, 'init': False, 'name': 'data_prep_job', 'type': 'command', 'status': None, 'log_files': None, 'description': None, 'tags': {}, 'properties': {}, 'print_as_yaml': False, 'id': None, 'Resource__source_path': '', 'base_path': '/home/daniel/repos/aml_demo/notebooks', 'creation_context': None, 'serialize': <msrest.serialization.Serializer object at 0x7f011075e800>, 'allowed_keys': {}, 'key_restriction': False, 'logger': <Logger attr_dict (WARNING)>, 'display_name': None, 'experiment_name': None, 'compute': None, 'services': None, 'comment': None, 'job_inputs': {'datafolder': '${{parent.inputs.catsanddogs_data_input}}', 'test_train_ratio': '${{parent.inputs.test_train_ratio}}'}, 'job_outputs': {'train_data': {'type': 'uri_folder', 'mode': 'rw_mount'}, 'test_data': {'type': 'uri_folder', 'mode': 'rw_mount'}}, 'inputs': {'datafolder': <azure.ai.ml.entities._job.pipeline._io.base.NodeInput object at 0x7f011075e560>, 'test_train_ratio': <azure.ai.ml.entities._job.pipeline._io.base.NodeInput object at 0x7f011075f4c0>}, 'outputs': {'train_data': <azure.ai.ml.entities._job.pipeline._io.base.NodeOutput object at 0x7f011075d330>, 'test_data': <azure.ai.ml.entities._job.pipeline._io.base.NodeOutput object at 0x7f011075f310>}, 'component': 'azureml_anonymous:05b0ba04-d767-48ac-8029-fb5e23953f3a', 'referenced_control_flow_node_instance_id': None, 'kwargs': {'services': None}, 'instance_id': '8be0b778-13a3-42b0-a6f1-4d38309bf2f3', 'source': 'BUILDER', 'validate_required_input_not_provided': True, 'limits': None, 'identity': None, 'distribution': None, 'environment_variables': {}, 'environment': None, 'resources': None, 'queue_settings': None, 'parent_job_name': None, 'swept': False}), 'train_job': Command({'parameters': {}, 'init': False, 'name': 'train_job', 'type': 'command', 'status': None, 'log_files': None, 'description': None, 'tags': {}, 'properties': {}, 'print_as_yaml': False, 'id': None, 'Resource__source_path': '', 'base_path': '/home/daniel/repos/aml_demo/notebooks', 'creation_context': None, 'serialize': <msrest.serialization.Serializer object at 0x7f011075e6e0>, 'allowed_keys': {}, 'key_restriction': False, 'logger': <Logger attr_dict (WARNING)>, 'display_name': None, 'experiment_name': None, 'compute': None, 'services': None, 'comment': None, 'job_inputs': {'train_data': '${{parent.jobs.data_prep_job.outputs.train_data}}', 'test_data': '${{parent.jobs.data_prep_job.outputs.test_data}}', 'epochs': '${{parent.inputs.epochs}}'}, 'job_outputs': {'model': '${{parent.outputs.train_job_model}}'}, 'inputs': {'train_data': <azure.ai.ml.entities._job.pipeline._io.base.NodeInput object at 0x7f011075cb50>, 'test_data': <azure.ai.ml.entities._job.pipeline._io.base.NodeInput object at 0x7f011075c6a0>, 'epochs': <azure.ai.ml.entities._job.pipeline._io.base.NodeInput object at 0x7f011075f2b0>}, 'outputs': {'model': <azure.ai.ml.entities._job.pipeline._io.base.NodeOutput object at 0x7f011075c760>}, 'component': 'azureml_anonymous:73e86252-abda-4890-9c20-81f3b77026c6', 'referenced_control_flow_node_instance_id': None, 'kwargs': {'services': None}, 'instance_id': '7a432737-316d-4588-84ad-eb8cf9f573a1', 'source': 'BUILDER', 'validate_required_input_not_provided': True, 'limits': None, 'identity': None, 'distribution': None, 'environment_variables': {}, 'environment': None, 'resources': None, 'queue_settings': None, 'parent_job_name': None, 'swept': False})}, 'job_types': {'command': 2}, 'job_sources': {'BUILDER': 2}, 'source_job_id': None}), 'type': 'pipeline', 'status': 'NotStarted', 'log_files': None, 'name': 'strong_cup_wmf496hgv3', 'description': 'catsanddogs pipeline test name arg', 'tags': {}, 'properties': {}, 'print_as_yaml': False, 'id': '/subscriptions/cad4de40-836d-424a-bdd6-3296c5c25179/resourceGroups/rgdaniel/providers/Microsoft.MachineLearningServices/workspaces/amldaniel/jobs/strong_cup_wmf496hgv3', 'Resource__source_path': '', 'base_path': '/home/daniel/repos/aml_demo/notebooks', 'creation_context': <azure.ai.ml.entities._system_data.SystemData object at 0x7f011075e170>, 'serialize': <msrest.serialization.Serializer object at 0x7f011075c190>, 'display_name': 'catsanddogs_pipeline_register_direct', 'experiment_name': 'notebooks', 'compute': 'defaultcompute', 'services': {'Tracking': {'endpoint': 'azureml://westeurope.api.azureml.ms/mlflow/v1.0/subscriptions/cad4de40-836d-424a-bdd6-3296c5c25179/resourceGroups/rgdaniel/providers/Microsoft.MachineLearningServices/workspaces/amldaniel?', 'type': 'Tracking'}, 'Studio': {'endpoint': 'https://ml.azure.com/runs/strong_cup_wmf496hgv3?wsid=/subscriptions/cad4de40-836d-424a-bdd6-3296c5c25179/resourcegroups/rgdaniel/workspaces/amldaniel&tid=8b87af7d-8647-4dc7-8df4-5f69a2011bb5', 'type': 'Studio'}}, 'settings': {}, 'identity': None, 'default_code': None, 'default_environment': None})"
      ]
     },
     "execution_count": 137,
     "metadata": {},
     "output_type": "execute_result"
    }
   ],
   "source": [
    "ml_client.jobs.create_or_update(pipeline)"
   ]
  },
  {
   "cell_type": "code",
   "execution_count": 17,
   "metadata": {},
   "outputs": [],
   "source": [
    "#lets add a registering step to the pipeline\n",
    "os.makedirs(\"../components/catsanddogsregister\", exist_ok=True)"
   ]
  },
  {
   "cell_type": "code",
   "execution_count": 19,
   "metadata": {},
   "outputs": [
    {
     "name": "stdout",
     "output_type": "stream",
     "text": [
      "Overwriting ../components/catsanddogsregister/catsanddogsregister.py\n"
     ]
    }
   ],
   "source": [
    "%%writefile ../components/catsanddogsregister/catsanddogsregister.py\n",
    "import os\n",
    "import argparse\n",
    "import mlflow\n",
    "from keras.models import load_model\n",
    "import shutil\n",
    "\n",
    "\n",
    "def main():\n",
    "    parser = argparse.ArgumentParser(description=\"Register the Cats and Dogs model\")\n",
    "    parser.add_argument(\"--model\", type=str, help=\"path to the model\")\n",
    "    parser.add_argument(\"--model_name\", type=str, help=\"name of the model\")\n",
    "    parser.add_argument(\"--model_description\", type=str, help=\"description of the model\")\n",
    "    parser.add_argument(\"--output_path\", type=str, help=\"path to save the model\")\n",
    "    mlflow.start_run()\n",
    "    args = parser.parse_args()\n",
    "    model_path = args.model\n",
    "    model_name = args.model_name\n",
    "    model_description = args.model_description\n",
    "\n",
    "    print(f\"Model path: {model_path}\")\n",
    "    print(f\"These are the files found in the model path: {os.listdir(model_path)}\")\n",
    "\n",
    "    print(f\"Model name: {model_name}\")\n",
    "    print(f\"Model description: {model_description}\")\n",
    "    print(f\"Output path: {args.output_path}\")\n",
    "\n",
    "    print(os.listdir(model_path))\n",
    "\n",
    "    #if output_model folder in the model path, construct the path to output_model:\n",
    "    # if \"output_model\" in os.listdir(os.path.split(model_path)[0]):\n",
    "    #     model_path = os.path.join(model_path, \"output_model\")\n",
    "    #     print(f\"Model path: {model_path}\")\n",
    "  \n",
    "    keras_model = load_model(model_path)\n",
    "    mlflow.keras.log_model(keras_model, args.output_path)\n",
    "    mlflow.end_run()\n",
    "    \n",
    "    #copy the model to the output path\n",
    "    # shutil.copytree(model_path, args.output_path, dirs_exist_ok=True)\n",
    "\n",
    "    # print(f\"Contents of output directory {args.output_path}:\")\n",
    "    # if os.path.exists(args.output_path):\n",
    "    #     print(os.listdir(args.output_path))\n",
    "    # else:\n",
    "    #     print(\"Output directory doesn't exist!\")\n",
    "\n",
    "    \n",
    "\n",
    "if __name__ == \"__main__\":\n",
    "    main()"
   ]
  },
  {
   "cell_type": "code",
   "execution_count": 26,
   "metadata": {},
   "outputs": [],
   "source": [
    "inputs = {\"model\": Input(type = \"uri_folder\"), \"model_name\": Input(type=\"string\"), \"model_description\": Input(type=\"string\")}\n",
    "outputs={\"output_model\": Output(type=\"custom_model\")}\n",
    "\n",
    "catsanddogsregister = command(\n",
    "    name=\"catsanddogsregister\",\n",
    "    code = \"../components/catsanddogsregister/\",\n",
    "    inputs=inputs,\n",
    "    outputs=outputs,\n",
    "    command = \"\"\"python catsanddogsregister.py --model ${{inputs.model}} --model_name ${{inputs.model_name}} --model_description ${{inputs.model_description}} --output_path ${{outputs.output_model}}\"\"\",\n",
    "    environment=\"catsanddogsenv:1\", #Note updated environment version to install azureml-core and azure-ai-ml\n",
    ")"
   ]
  },
  {
   "cell_type": "code",
   "execution_count": 27,
   "metadata": {},
   "outputs": [],
   "source": [
    "@dsl.pipeline(\n",
    "    compute=\"defaultcompute\",\n",
    "    description=\"catsanddogs pipeline correct split with model registration\",\n",
    "    name=\"catsanddogs_pipeline_with_model_registration\"\n",
    ")\n",
    "def catsanddogs_pipeline_with_model_registration(catsanddogs_data_input, test_train_ratio=0.25, epochs=1, model_name=\"catsanddogsmodel\", model_description=\"'A model to classify cats and dogs'\"):\n",
    "    data_prep_job = catsanddogsprep(datafolder = catsanddogs_data_input, test_train_ratio=test_train_ratio)\n",
    "    train_job = catsanddogstrain(train_data=data_prep_job.outputs.train_data, test_data=data_prep_job.outputs.test_data, epochs=epochs)\n",
    "    register_job = catsanddogsregister(model=train_job.outputs.model, model_name=model_name, model_description=model_description)\n",
    "    # return {\"data_prep_job_train_data\": data_prep_job.outputs.train_data, \"data_prep_job_test_data\": data_prep_job.outputs.test_data, \"registered_model\": register_job.outputs.output_model}\n",
    "    return {\"registered_model\": register_job.outputs.output_model}\n"
   ]
  },
  {
   "cell_type": "code",
   "execution_count": 28,
   "metadata": {},
   "outputs": [
    {
     "name": "stderr",
     "output_type": "stream",
     "text": [
      "pathOnCompute is not a known attribute of class <class 'azure.ai.ml._restclient.v2023_04_01_preview.models._models_py3.UriFolderJobOutput'> and will be ignored\n",
      "pathOnCompute is not a known attribute of class <class 'azure.ai.ml._restclient.v2023_04_01_preview.models._models_py3.UriFolderJobOutput'> and will be ignored\n",
      "pathOnCompute is not a known attribute of class <class 'azure.ai.ml._restclient.v2023_04_01_preview.models._models_py3.UriFolderJobOutput'> and will be ignored\n",
      "pathOnCompute is not a known attribute of class <class 'azure.ai.ml._restclient.v2023_04_01_preview.models._models_py3.CustomModelJobOutput'> and will be ignored\n"
     ]
    },
    {
     "data": {
      "text/html": [
       "<table style=\"width:100%\"><tr><th>Experiment</th><th>Name</th><th>Type</th><th>Status</th><th>Details Page</th></tr><tr><td>notebooks</td><td>busy_cup_90y9ntb449</td><td>pipeline</td><td>NotStarted</td><td><a href=\"https://ml.azure.com/runs/busy_cup_90y9ntb449?wsid=/subscriptions/cad4de40-836d-424a-bdd6-3296c5c25179/resourcegroups/rgdaniel/workspaces/amldaniel&amp;tid=8b87af7d-8647-4dc7-8df4-5f69a2011bb5\" target=\"_blank\" rel=\"noopener\">Link to Azure Machine Learning studio</a></td></tr></table>"
      ],
      "text/plain": [
       "PipelineJob({'inputs': {'catsanddogs_data_input': <azure.ai.ml.entities._job.pipeline._io.base.PipelineInput object at 0x7fda0cab1120>, 'test_train_ratio': <azure.ai.ml.entities._job.pipeline._io.base.PipelineInput object at 0x7fda0cab2c80>, 'epochs': <azure.ai.ml.entities._job.pipeline._io.base.PipelineInput object at 0x7fda0cab2230>, 'model_name': <azure.ai.ml.entities._job.pipeline._io.base.PipelineInput object at 0x7fda0cab1330>, 'model_description': <azure.ai.ml.entities._job.pipeline._io.base.PipelineInput object at 0x7fda0cab2c20>}, 'outputs': {'registered_model': <azure.ai.ml.entities._job.pipeline._io.base.PipelineOutput object at 0x7fda0cab1690>}, 'jobs': {}, 'component': PipelineComponent({'latest_version': None, 'intellectual_property': None, 'auto_increment_version': False, 'source': 'REMOTE.WORKSPACE.JOB', 'is_anonymous': True, 'auto_delete_setting': None, 'name': 'azureml_anonymous', 'description': 'catsanddogs pipeline correct split with model registration', 'tags': {}, 'properties': {}, 'print_as_yaml': False, 'id': None, 'Resource__source_path': None, 'base_path': '/home/daniel/repos/aml_demo/notebooks', 'creation_context': None, 'serialize': <msrest.serialization.Serializer object at 0x7fda0cab1a80>, 'version': '1', 'schema': None, 'type': 'pipeline', 'display_name': 'catsanddogs_pipeline_with_model_registration', 'is_deterministic': None, 'inputs': {'catsanddogs_data_input': {}, 'test_train_ratio': {}, 'epochs': {}, 'model_name': {}, 'model_description': {}}, 'outputs': {'registered_model': {}}, 'yaml_str': None, 'other_parameter': {}, 'jobs': {'data_prep_job': Command({'parameters': {}, 'init': False, 'name': 'data_prep_job', 'type': 'command', 'status': None, 'log_files': None, 'description': None, 'tags': {}, 'properties': {}, 'print_as_yaml': False, 'id': None, 'Resource__source_path': '', 'base_path': '/home/daniel/repos/aml_demo/notebooks', 'creation_context': None, 'serialize': <msrest.serialization.Serializer object at 0x7fda0cab1db0>, 'allowed_keys': {}, 'key_restriction': False, 'logger': <Logger attr_dict (WARNING)>, 'display_name': None, 'experiment_name': None, 'compute': None, 'services': None, 'comment': None, 'job_inputs': {'datafolder': '${{parent.inputs.catsanddogs_data_input}}', 'test_train_ratio': '${{parent.inputs.test_train_ratio}}'}, 'job_outputs': {'train_data': {'type': 'uri_folder', 'mode': 'rw_mount'}, 'test_data': {'type': 'uri_folder', 'mode': 'rw_mount'}}, 'inputs': {'datafolder': <azure.ai.ml.entities._job.pipeline._io.base.NodeInput object at 0x7fda0cab2b60>, 'test_train_ratio': <azure.ai.ml.entities._job.pipeline._io.base.NodeInput object at 0x7fda0cab0ee0>}, 'outputs': {'train_data': <azure.ai.ml.entities._job.pipeline._io.base.NodeOutput object at 0x7fda0cab2440>, 'test_data': <azure.ai.ml.entities._job.pipeline._io.base.NodeOutput object at 0x7fda0cab0d60>}, 'component': 'azureml_anonymous:05b0ba04-d767-48ac-8029-fb5e23953f3a', 'referenced_control_flow_node_instance_id': None, 'kwargs': {'services': None}, 'instance_id': '863a5290-7d61-444f-997a-557b7dc02cad', 'source': 'BUILDER', 'validate_required_input_not_provided': True, 'limits': None, 'identity': None, 'distribution': None, 'environment_variables': {}, 'environment': None, 'resources': None, 'queue_settings': None, 'parent_job_name': None, 'swept': False}), 'train_job': Command({'parameters': {}, 'init': False, 'name': 'train_job', 'type': 'command', 'status': None, 'log_files': None, 'description': None, 'tags': {}, 'properties': {}, 'print_as_yaml': False, 'id': None, 'Resource__source_path': '', 'base_path': '/home/daniel/repos/aml_demo/notebooks', 'creation_context': None, 'serialize': <msrest.serialization.Serializer object at 0x7fda0cab2170>, 'allowed_keys': {}, 'key_restriction': False, 'logger': <Logger attr_dict (WARNING)>, 'display_name': None, 'experiment_name': None, 'compute': None, 'services': None, 'comment': None, 'job_inputs': {'train_data': '${{parent.jobs.data_prep_job.outputs.train_data}}', 'test_data': '${{parent.jobs.data_prep_job.outputs.test_data}}', 'epochs': '${{parent.inputs.epochs}}'}, 'job_outputs': {'model': {'type': 'uri_folder', 'mode': 'rw_mount'}}, 'inputs': {'train_data': <azure.ai.ml.entities._job.pipeline._io.base.NodeInput object at 0x7fda0cab0dc0>, 'test_data': <azure.ai.ml.entities._job.pipeline._io.base.NodeInput object at 0x7fda0cab3760>, 'epochs': <azure.ai.ml.entities._job.pipeline._io.base.NodeInput object at 0x7fda0cab0af0>}, 'outputs': {'model': <azure.ai.ml.entities._job.pipeline._io.base.NodeOutput object at 0x7fda0cab1ab0>}, 'component': 'azureml_anonymous:73e86252-abda-4890-9c20-81f3b77026c6', 'referenced_control_flow_node_instance_id': None, 'kwargs': {'services': None}, 'instance_id': '76ab9bf8-39f6-4539-b468-5b845a848b81', 'source': 'BUILDER', 'validate_required_input_not_provided': True, 'limits': None, 'identity': None, 'distribution': None, 'environment_variables': {}, 'environment': None, 'resources': None, 'queue_settings': None, 'parent_job_name': None, 'swept': False}), 'register_job': Command({'parameters': {}, 'init': False, 'name': 'register_job', 'type': 'command', 'status': None, 'log_files': None, 'description': None, 'tags': {}, 'properties': {}, 'print_as_yaml': False, 'id': None, 'Resource__source_path': '', 'base_path': '/home/daniel/repos/aml_demo/notebooks', 'creation_context': None, 'serialize': <msrest.serialization.Serializer object at 0x7fda0cab0940>, 'allowed_keys': {}, 'key_restriction': False, 'logger': <Logger attr_dict (WARNING)>, 'display_name': None, 'experiment_name': None, 'compute': None, 'services': None, 'comment': None, 'job_inputs': {'model': '${{parent.jobs.train_job.outputs.model}}', 'model_name': '${{parent.inputs.model_name}}', 'model_description': '${{parent.inputs.model_description}}'}, 'job_outputs': {'output_model': '${{parent.outputs.registered_model}}'}, 'inputs': {'model': <azure.ai.ml.entities._job.pipeline._io.base.NodeInput object at 0x7fda0cab2050>, 'model_name': <azure.ai.ml.entities._job.pipeline._io.base.NodeInput object at 0x7fda0cab09d0>, 'model_description': <azure.ai.ml.entities._job.pipeline._io.base.NodeInput object at 0x7fda0cab23e0>}, 'outputs': {'output_model': <azure.ai.ml.entities._job.pipeline._io.base.NodeOutput object at 0x7fda0cab0d90>}, 'component': 'azureml_anonymous:b80b7648-73a5-49a5-9e59-ee479bfb8745', 'referenced_control_flow_node_instance_id': None, 'kwargs': {'services': None}, 'instance_id': '902dafb3-7de1-4783-9226-f46ec07ae3f9', 'source': 'BUILDER', 'validate_required_input_not_provided': True, 'limits': None, 'identity': None, 'distribution': None, 'environment_variables': {}, 'environment': None, 'resources': None, 'queue_settings': None, 'parent_job_name': None, 'swept': False})}, 'job_types': {'command': 3}, 'job_sources': {'BUILDER': 3}, 'source_job_id': None}), 'type': 'pipeline', 'status': 'NotStarted', 'log_files': None, 'name': 'busy_cup_90y9ntb449', 'description': 'catsanddogs pipeline correct split with model registration', 'tags': {}, 'properties': {}, 'print_as_yaml': False, 'id': '/subscriptions/cad4de40-836d-424a-bdd6-3296c5c25179/resourceGroups/rgdaniel/providers/Microsoft.MachineLearningServices/workspaces/amldaniel/jobs/busy_cup_90y9ntb449', 'Resource__source_path': '', 'base_path': '/home/daniel/repos/aml_demo/notebooks', 'creation_context': <azure.ai.ml.entities._system_data.SystemData object at 0x7fda0cab1cf0>, 'serialize': <msrest.serialization.Serializer object at 0x7fda0cab1210>, 'display_name': 'catsanddogs_pipeline_with_model_registration', 'experiment_name': 'notebooks', 'compute': 'defaultcompute', 'services': {'Tracking': {'endpoint': 'azureml://westeurope.api.azureml.ms/mlflow/v1.0/subscriptions/cad4de40-836d-424a-bdd6-3296c5c25179/resourceGroups/rgdaniel/providers/Microsoft.MachineLearningServices/workspaces/amldaniel?', 'type': 'Tracking'}, 'Studio': {'endpoint': 'https://ml.azure.com/runs/busy_cup_90y9ntb449?wsid=/subscriptions/cad4de40-836d-424a-bdd6-3296c5c25179/resourcegroups/rgdaniel/workspaces/amldaniel&tid=8b87af7d-8647-4dc7-8df4-5f69a2011bb5', 'type': 'Studio'}}, 'settings': {}, 'identity': None, 'default_code': None, 'default_environment': None})"
      ]
     },
     "execution_count": 28,
     "metadata": {},
     "output_type": "execute_result"
    }
   ],
   "source": [
    "catsanddogs_pipeline_with_model_registration_instance = catsanddogs_pipeline_with_model_registration(catsanddogs_data_input=cats_and_dogs_data)\n",
    "ml_client.jobs.create_or_update(catsanddogs_pipeline_with_model_registration_instance)"
   ]
  },
  {
   "cell_type": "code",
   "execution_count": null,
   "metadata": {},
   "outputs": [],
   "source": []
  },
  {
   "cell_type": "code",
   "execution_count": 461,
   "metadata": {},
   "outputs": [
    {
     "name": "stdout",
     "output_type": "stream",
     "text": [
      "Help on function register in module azureml.core.model:\n",
      "\n",
      "register(workspace, model_path, model_name, tags=None, properties=None, description=None, datasets=None, model_framework=None, model_framework_version=None, child_paths=None, sample_input_dataset=None, sample_output_dataset=None, resource_configuration=None)\n",
      "    Register a model with the provided workspace.\n",
      "    \n",
      "    .. remarks::\n",
      "    \n",
      "        In addition to the content of the model file itself, a registered model also stores model metadata,\n",
      "        including model description, tags, and framework information, that is useful when managing and\n",
      "        deploying the model in your workspace. For example, with tags you can categorize your models and\n",
      "        apply filters when listing models in your workspace.\n",
      "    \n",
      "        The following sample shows how to register a model specifying tags and a description.\n",
      "    \n",
      "        .. code-block:: python\n",
      "    \n",
      "            from azureml.core.model import Model\n",
      "    \n",
      "            model = Model.register(model_path=\"sklearn_regression_model.pkl\",\n",
      "                                   model_name=\"sklearn_regression_model\",\n",
      "                                   tags={'area': \"diabetes\", 'type': \"regression\"},\n",
      "                                   description=\"Ridge regression model to predict diabetes\",\n",
      "                                   workspace=ws)\n",
      "    \n",
      "        If you have a model that was produced as a result of an experiment run, you can register it\n",
      "        from a run object directly without downloading it to a local file first. In order to do that use\n",
      "        the :func:`azureml.core.run.Run.register_model` method as documented in the :class:`azureml.core.run.Run`\n",
      "        class.\n",
      "    \n",
      "    :param workspace: The workspace to register the model with.\n",
      "    :type workspace: azureml.core.Workspace\n",
      "    :param model_path: The path on the local file system where the model assets are\n",
      "        located. This can be a direct pointer to a single file or folder. If pointing to a folder, the\n",
      "        ``child_paths`` parameter can be used to specify individual files to bundle together as the Model object,\n",
      "        as opposed to using the entire contents of the folder.\n",
      "    :type model_path: str\n",
      "    :param model_name: The name to register the model with.\n",
      "    :type model_name: str\n",
      "    :param tags: An optional dictionary of key value tags to assign to the model.\n",
      "    :type tags: dict({str : str})\n",
      "    :param properties: An optional dictionary of key value properties to assign to the model.\n",
      "        These properties can't be changed after model creation, however new key value pairs can be added.\n",
      "    :type properties: dict({str : str})\n",
      "    :param description: A text description of the model.\n",
      "    :type description: str\n",
      "    :param datasets: A list of tuples where the first element describes the dataset-model relationship and\n",
      "        the second element is the dataset.\n",
      "    :type datasets: builtin.list[(str, azureml.data.abstract_dataset.AbstractDataset)]\n",
      "    :param model_framework: The framework of the registered model. Using the system-supported constants\n",
      "        from the :class:`azureml.core.model.Model.Framework` class allows for simplified deployment for\n",
      "        some popular frameworks.\n",
      "    :type model_framework: str\n",
      "    :param model_framework_version: The framework version of the registered model.\n",
      "    :type model_framework_version: str\n",
      "    :param child_paths: If provided in conjunction with a ``model_path`` to a folder, only the specified\n",
      "        files will be bundled into the Model object.\n",
      "    :type child_paths: builtin.list[str]\n",
      "    :param sample_input_dataset: Sample input dataset for the registered model.\n",
      "    :type sample_input_dataset: azureml.data.abstract_dataset.AbstractDataset\n",
      "    :param sample_output_dataset: Sample output dataset for the registered model.\n",
      "    :type sample_output_dataset: azureml.data.abstract_dataset.AbstractDataset\n",
      "    :param resource_configuration: A resource configuration to run the registered model.\n",
      "    :type resource_configuration: azureml.core.resource_configuration.ResourceConfiguration\n",
      "    :return: The registered model object.\n",
      "    :rtype: azureml.core.Model\n",
      "\n"
     ]
    }
   ],
   "source": [
    "from azureml.core import Model, workspace\n",
    "help(Model.register)"
   ]
  },
  {
   "cell_type": "code",
   "execution_count": null,
   "metadata": {},
   "outputs": [],
   "source": []
  }
 ],
 "metadata": {
  "kernelspec": {
   "display_name": ".venv",
   "language": "python",
   "name": "python3"
  },
  "language_info": {
   "codemirror_mode": {
    "name": "ipython",
    "version": 3
   },
   "file_extension": ".py",
   "mimetype": "text/x-python",
   "name": "python",
   "nbconvert_exporter": "python",
   "pygments_lexer": "ipython3",
   "version": "3.10.12"
  }
 },
 "nbformat": 4,
 "nbformat_minor": 2
}
