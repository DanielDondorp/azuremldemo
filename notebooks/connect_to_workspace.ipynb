{
 "cells": [
  {
   "cell_type": "code",
   "execution_count": 1,
   "metadata": {},
   "outputs": [],
   "source": [
    "from azure.ai.ml import MLClient\n",
    "from azure.identity import DefaultAzureCredential, AzureCliCredential"
   ]
  },
  {
   "cell_type": "code",
   "execution_count": 2,
   "metadata": {},
   "outputs": [
    {
     "name": "stderr",
     "output_type": "stream",
     "text": [
      "Found the config file in: /home/daniel/repos/aml/config.json\n"
     ]
    }
   ],
   "source": [
    "credential = DefaultAzureCredential()\n",
    "ml_client = MLClient.from_config(credential=credential)"
   ]
  },
  {
   "cell_type": "code",
   "execution_count": 3,
   "metadata": {},
   "outputs": [
    {
     "name": "stderr",
     "output_type": "stream",
     "text": [
      "DefaultAzureCredential failed to retrieve a token from the included credentials.\n",
      "Attempted credentials:\n",
      "\tEnvironmentCredential: EnvironmentCredential authentication unavailable. Environment variables are not fully configured.\n",
      "Visit https://aka.ms/azsdk/python/identity/environmentcredential/troubleshoot to troubleshoot this issue.\n",
      "\tManagedIdentityCredential: ManagedIdentityCredential authentication unavailable, no response from the IMDS endpoint.\n",
      "\tSharedTokenCacheCredential: SharedTokenCacheCredential authentication unavailable. No accounts were found in the cache.\n",
      "\tAzureCliCredential: ERROR: AADSTS70043: The refresh token has expired or is invalid due to sign-in frequency checks by conditional access. The token was issued on 2025-01-06T07:49:45.5590291Z and the maximum allowed lifetime for this request is 14400. Trace ID: 7a0c140c-ad9a-49bb-9db8-4f1897f77d00 Correlation ID: cec5b62f-e84d-4025-b7eb-3f5eb34990a7 Timestamp: 2025-01-07 09:49:22Z\n",
      "Interactive authentication is needed. Please run:\n",
      "az login --scope https://management.azure.com/.default\n",
      "\n",
      "\tAzurePowerShellCredential: PowerShell is not installed\n",
      "\tAzureDeveloperCliCredential: Azure Developer CLI could not be found. Please visit https://aka.ms/azure-dev for installation instructions and then,once installed, authenticate to your Azure account using 'azd auth login'.\n",
      "To mitigate this issue, please refer to the troubleshooting guidelines here at https://aka.ms/azsdk/python/identity/defaultazurecredential/troubleshoot.\n"
     ]
    },
    {
     "ename": "ClientAuthenticationError",
     "evalue": "DefaultAzureCredential failed to retrieve a token from the included credentials.\nAttempted credentials:\n\tEnvironmentCredential: EnvironmentCredential authentication unavailable. Environment variables are not fully configured.\nVisit https://aka.ms/azsdk/python/identity/environmentcredential/troubleshoot to troubleshoot this issue.\n\tManagedIdentityCredential: ManagedIdentityCredential authentication unavailable, no response from the IMDS endpoint.\n\tSharedTokenCacheCredential: SharedTokenCacheCredential authentication unavailable. No accounts were found in the cache.\n\tAzureCliCredential: ERROR: AADSTS70043: The refresh token has expired or is invalid due to sign-in frequency checks by conditional access. The token was issued on 2025-01-06T07:49:45.5590291Z and the maximum allowed lifetime for this request is 14400. Trace ID: 7a0c140c-ad9a-49bb-9db8-4f1897f77d00 Correlation ID: cec5b62f-e84d-4025-b7eb-3f5eb34990a7 Timestamp: 2025-01-07 09:49:22Z\nInteractive authentication is needed. Please run:\naz login --scope https://management.azure.com/.default\n\n\tAzurePowerShellCredential: PowerShell is not installed\n\tAzureDeveloperCliCredential: Azure Developer CLI could not be found. Please visit https://aka.ms/azure-dev for installation instructions and then,once installed, authenticate to your Azure account using 'azd auth login'.\nTo mitigate this issue, please refer to the troubleshooting guidelines here at https://aka.ms/azsdk/python/identity/defaultazurecredential/troubleshoot.",
     "output_type": "error",
     "traceback": [
      "\u001b[0;31m---------------------------------------------------------------------------\u001b[0m",
      "\u001b[0;31mClientAuthenticationError\u001b[0m                 Traceback (most recent call last)",
      "Cell \u001b[0;32mIn[3], line 1\u001b[0m\n\u001b[0;32m----> 1\u001b[0m [\u001b[38;5;28mprint\u001b[39m(x) \u001b[38;5;28;01mfor\u001b[39;00m x \u001b[38;5;129;01min\u001b[39;00m ml_client\u001b[38;5;241m.\u001b[39mdata\u001b[38;5;241m.\u001b[39mlist()]\n",
      "Cell \u001b[0;32mIn[3], line 1\u001b[0m, in \u001b[0;36m<listcomp>\u001b[0;34m(.0)\u001b[0m\n\u001b[0;32m----> 1\u001b[0m [\u001b[38;5;28mprint\u001b[39m(x) \u001b[38;5;28;01mfor\u001b[39;00m x \u001b[38;5;129;01min\u001b[39;00m ml_client\u001b[38;5;241m.\u001b[39mdata\u001b[38;5;241m.\u001b[39mlist()]\n",
      "File \u001b[0;32m~/repos/aml/.venv/lib/python3.10/site-packages/azure/core/paging.py:123\u001b[0m, in \u001b[0;36mItemPaged.__next__\u001b[0;34m(self)\u001b[0m\n\u001b[1;32m    121\u001b[0m \u001b[38;5;28;01mif\u001b[39;00m \u001b[38;5;28mself\u001b[39m\u001b[38;5;241m.\u001b[39m_page_iterator \u001b[38;5;129;01mis\u001b[39;00m \u001b[38;5;28;01mNone\u001b[39;00m:\n\u001b[1;32m    122\u001b[0m     \u001b[38;5;28mself\u001b[39m\u001b[38;5;241m.\u001b[39m_page_iterator \u001b[38;5;241m=\u001b[39m itertools\u001b[38;5;241m.\u001b[39mchain\u001b[38;5;241m.\u001b[39mfrom_iterable(\u001b[38;5;28mself\u001b[39m\u001b[38;5;241m.\u001b[39mby_page())\n\u001b[0;32m--> 123\u001b[0m \u001b[38;5;28;01mreturn\u001b[39;00m \u001b[38;5;28;43mnext\u001b[39;49m\u001b[43m(\u001b[49m\u001b[38;5;28;43mself\u001b[39;49m\u001b[38;5;241;43m.\u001b[39;49m\u001b[43m_page_iterator\u001b[49m\u001b[43m)\u001b[49m\n",
      "File \u001b[0;32m~/repos/aml/.venv/lib/python3.10/site-packages/azure/core/paging.py:75\u001b[0m, in \u001b[0;36mPageIterator.__next__\u001b[0;34m(self)\u001b[0m\n\u001b[1;32m     73\u001b[0m     \u001b[38;5;28;01mraise\u001b[39;00m \u001b[38;5;167;01mStopIteration\u001b[39;00m(\u001b[38;5;124m\"\u001b[39m\u001b[38;5;124mEnd of paging\u001b[39m\u001b[38;5;124m\"\u001b[39m)\n\u001b[1;32m     74\u001b[0m \u001b[38;5;28;01mtry\u001b[39;00m:\n\u001b[0;32m---> 75\u001b[0m     \u001b[38;5;28mself\u001b[39m\u001b[38;5;241m.\u001b[39m_response \u001b[38;5;241m=\u001b[39m \u001b[38;5;28;43mself\u001b[39;49m\u001b[38;5;241;43m.\u001b[39;49m\u001b[43m_get_next\u001b[49m\u001b[43m(\u001b[49m\u001b[38;5;28;43mself\u001b[39;49m\u001b[38;5;241;43m.\u001b[39;49m\u001b[43mcontinuation_token\u001b[49m\u001b[43m)\u001b[49m\n\u001b[1;32m     76\u001b[0m \u001b[38;5;28;01mexcept\u001b[39;00m AzureError \u001b[38;5;28;01mas\u001b[39;00m error:\n\u001b[1;32m     77\u001b[0m     \u001b[38;5;28;01mif\u001b[39;00m \u001b[38;5;129;01mnot\u001b[39;00m error\u001b[38;5;241m.\u001b[39mcontinuation_token:\n",
      "File \u001b[0;32m~/repos/aml/.venv/lib/python3.10/site-packages/azure/ai/ml/_restclient/v2023_04_01_preview/operations/_data_containers_operations.py:296\u001b[0m, in \u001b[0;36mDataContainersOperations.list.<locals>.get_next\u001b[0;34m(next_link)\u001b[0m\n\u001b[1;32m    293\u001b[0m \u001b[38;5;28;01mdef\u001b[39;00m \u001b[38;5;21mget_next\u001b[39m(next_link\u001b[38;5;241m=\u001b[39m\u001b[38;5;28;01mNone\u001b[39;00m):\n\u001b[1;32m    294\u001b[0m     request \u001b[38;5;241m=\u001b[39m prepare_request(next_link)\n\u001b[0;32m--> 296\u001b[0m     pipeline_response \u001b[38;5;241m=\u001b[39m \u001b[38;5;28;43mself\u001b[39;49m\u001b[38;5;241;43m.\u001b[39;49m\u001b[43m_client\u001b[49m\u001b[38;5;241;43m.\u001b[39;49m\u001b[43m_pipeline\u001b[49m\u001b[38;5;241;43m.\u001b[39;49m\u001b[43mrun\u001b[49m\u001b[43m(\u001b[49m\u001b[43m  \u001b[49m\u001b[38;5;66;43;03m# pylint: disable=protected-access\u001b[39;49;00m\n\u001b[1;32m    297\u001b[0m \u001b[43m        \u001b[49m\u001b[43mrequest\u001b[49m\u001b[43m,\u001b[49m\n\u001b[1;32m    298\u001b[0m \u001b[43m        \u001b[49m\u001b[43mstream\u001b[49m\u001b[38;5;241;43m=\u001b[39;49m\u001b[38;5;28;43;01mFalse\u001b[39;49;00m\u001b[43m,\u001b[49m\n\u001b[1;32m    299\u001b[0m \u001b[43m        \u001b[49m\u001b[38;5;241;43m*\u001b[39;49m\u001b[38;5;241;43m*\u001b[39;49m\u001b[43mkwargs\u001b[49m\n\u001b[1;32m    300\u001b[0m \u001b[43m    \u001b[49m\u001b[43m)\u001b[49m\n\u001b[1;32m    301\u001b[0m     response \u001b[38;5;241m=\u001b[39m pipeline_response\u001b[38;5;241m.\u001b[39mhttp_response\n\u001b[1;32m    303\u001b[0m     \u001b[38;5;28;01mif\u001b[39;00m response\u001b[38;5;241m.\u001b[39mstatus_code \u001b[38;5;129;01mnot\u001b[39;00m \u001b[38;5;129;01min\u001b[39;00m [\u001b[38;5;241m200\u001b[39m]:\n",
      "File \u001b[0;32m~/repos/aml/.venv/lib/python3.10/site-packages/azure/core/pipeline/_base.py:240\u001b[0m, in \u001b[0;36mPipeline.run\u001b[0;34m(self, request, **kwargs)\u001b[0m\n\u001b[1;32m    238\u001b[0m pipeline_request: PipelineRequest[HTTPRequestType] \u001b[38;5;241m=\u001b[39m PipelineRequest(request, context)\n\u001b[1;32m    239\u001b[0m first_node \u001b[38;5;241m=\u001b[39m \u001b[38;5;28mself\u001b[39m\u001b[38;5;241m.\u001b[39m_impl_policies[\u001b[38;5;241m0\u001b[39m] \u001b[38;5;28;01mif\u001b[39;00m \u001b[38;5;28mself\u001b[39m\u001b[38;5;241m.\u001b[39m_impl_policies \u001b[38;5;28;01melse\u001b[39;00m _TransportRunner(\u001b[38;5;28mself\u001b[39m\u001b[38;5;241m.\u001b[39m_transport)\n\u001b[0;32m--> 240\u001b[0m \u001b[38;5;28;01mreturn\u001b[39;00m \u001b[43mfirst_node\u001b[49m\u001b[38;5;241;43m.\u001b[39;49m\u001b[43msend\u001b[49m\u001b[43m(\u001b[49m\u001b[43mpipeline_request\u001b[49m\u001b[43m)\u001b[49m\n",
      "File \u001b[0;32m~/repos/aml/.venv/lib/python3.10/site-packages/azure/core/pipeline/_base.py:96\u001b[0m, in \u001b[0;36m_SansIOHTTPPolicyRunner.send\u001b[0;34m(self, request)\u001b[0m\n\u001b[1;32m     94\u001b[0m _await_result(\u001b[38;5;28mself\u001b[39m\u001b[38;5;241m.\u001b[39m_policy\u001b[38;5;241m.\u001b[39mon_request, request)\n\u001b[1;32m     95\u001b[0m \u001b[38;5;28;01mtry\u001b[39;00m:\n\u001b[0;32m---> 96\u001b[0m     response \u001b[38;5;241m=\u001b[39m \u001b[38;5;28;43mself\u001b[39;49m\u001b[38;5;241;43m.\u001b[39;49m\u001b[43mnext\u001b[49m\u001b[38;5;241;43m.\u001b[39;49m\u001b[43msend\u001b[49m\u001b[43m(\u001b[49m\u001b[43mrequest\u001b[49m\u001b[43m)\u001b[49m\n\u001b[1;32m     97\u001b[0m \u001b[38;5;28;01mexcept\u001b[39;00m \u001b[38;5;167;01mException\u001b[39;00m:\n\u001b[1;32m     98\u001b[0m     _await_result(\u001b[38;5;28mself\u001b[39m\u001b[38;5;241m.\u001b[39m_policy\u001b[38;5;241m.\u001b[39mon_exception, request)\n",
      "File \u001b[0;32m~/repos/aml/.venv/lib/python3.10/site-packages/azure/core/pipeline/_base.py:96\u001b[0m, in \u001b[0;36m_SansIOHTTPPolicyRunner.send\u001b[0;34m(self, request)\u001b[0m\n\u001b[1;32m     94\u001b[0m _await_result(\u001b[38;5;28mself\u001b[39m\u001b[38;5;241m.\u001b[39m_policy\u001b[38;5;241m.\u001b[39mon_request, request)\n\u001b[1;32m     95\u001b[0m \u001b[38;5;28;01mtry\u001b[39;00m:\n\u001b[0;32m---> 96\u001b[0m     response \u001b[38;5;241m=\u001b[39m \u001b[38;5;28;43mself\u001b[39;49m\u001b[38;5;241;43m.\u001b[39;49m\u001b[43mnext\u001b[49m\u001b[38;5;241;43m.\u001b[39;49m\u001b[43msend\u001b[49m\u001b[43m(\u001b[49m\u001b[43mrequest\u001b[49m\u001b[43m)\u001b[49m\n\u001b[1;32m     97\u001b[0m \u001b[38;5;28;01mexcept\u001b[39;00m \u001b[38;5;167;01mException\u001b[39;00m:\n\u001b[1;32m     98\u001b[0m     _await_result(\u001b[38;5;28mself\u001b[39m\u001b[38;5;241m.\u001b[39m_policy\u001b[38;5;241m.\u001b[39mon_exception, request)\n",
      "    \u001b[0;31m[... skipping similar frames: _SansIOHTTPPolicyRunner.send at line 96 (2 times)]\u001b[0m\n",
      "File \u001b[0;32m~/repos/aml/.venv/lib/python3.10/site-packages/azure/core/pipeline/_base.py:96\u001b[0m, in \u001b[0;36m_SansIOHTTPPolicyRunner.send\u001b[0;34m(self, request)\u001b[0m\n\u001b[1;32m     94\u001b[0m _await_result(\u001b[38;5;28mself\u001b[39m\u001b[38;5;241m.\u001b[39m_policy\u001b[38;5;241m.\u001b[39mon_request, request)\n\u001b[1;32m     95\u001b[0m \u001b[38;5;28;01mtry\u001b[39;00m:\n\u001b[0;32m---> 96\u001b[0m     response \u001b[38;5;241m=\u001b[39m \u001b[38;5;28;43mself\u001b[39;49m\u001b[38;5;241;43m.\u001b[39;49m\u001b[43mnext\u001b[49m\u001b[38;5;241;43m.\u001b[39;49m\u001b[43msend\u001b[49m\u001b[43m(\u001b[49m\u001b[43mrequest\u001b[49m\u001b[43m)\u001b[49m\n\u001b[1;32m     97\u001b[0m \u001b[38;5;28;01mexcept\u001b[39;00m \u001b[38;5;167;01mException\u001b[39;00m:\n\u001b[1;32m     98\u001b[0m     _await_result(\u001b[38;5;28mself\u001b[39m\u001b[38;5;241m.\u001b[39m_policy\u001b[38;5;241m.\u001b[39mon_exception, request)\n",
      "File \u001b[0;32m~/repos/aml/.venv/lib/python3.10/site-packages/azure/mgmt/core/policies/_base.py:95\u001b[0m, in \u001b[0;36mARMAutoResourceProviderRegistrationPolicy.send\u001b[0;34m(self, request)\u001b[0m\n\u001b[1;32m     93\u001b[0m \u001b[38;5;28;01mdef\u001b[39;00m \u001b[38;5;21msend\u001b[39m(\u001b[38;5;28mself\u001b[39m, request: PipelineRequest[HTTPRequestType]) \u001b[38;5;241m-\u001b[39m\u001b[38;5;241m>\u001b[39m PipelineResponse[HTTPRequestType, HTTPResponseType]:\n\u001b[1;32m     94\u001b[0m     http_request \u001b[38;5;241m=\u001b[39m request\u001b[38;5;241m.\u001b[39mhttp_request\n\u001b[0;32m---> 95\u001b[0m     response \u001b[38;5;241m=\u001b[39m \u001b[38;5;28;43mself\u001b[39;49m\u001b[38;5;241;43m.\u001b[39;49m\u001b[43mnext\u001b[49m\u001b[38;5;241;43m.\u001b[39;49m\u001b[43msend\u001b[49m\u001b[43m(\u001b[49m\u001b[43mrequest\u001b[49m\u001b[43m)\u001b[49m\n\u001b[1;32m     96\u001b[0m     \u001b[38;5;28;01mif\u001b[39;00m response\u001b[38;5;241m.\u001b[39mhttp_response\u001b[38;5;241m.\u001b[39mstatus_code \u001b[38;5;241m==\u001b[39m \u001b[38;5;241m409\u001b[39m:\n\u001b[1;32m     97\u001b[0m         rp_name \u001b[38;5;241m=\u001b[39m \u001b[38;5;28mself\u001b[39m\u001b[38;5;241m.\u001b[39m_check_rp_not_registered_err(response)\n",
      "File \u001b[0;32m~/repos/aml/.venv/lib/python3.10/site-packages/azure/core/pipeline/policies/_redirect.py:204\u001b[0m, in \u001b[0;36mRedirectPolicy.send\u001b[0;34m(self, request)\u001b[0m\n\u001b[1;32m    202\u001b[0m original_domain \u001b[38;5;241m=\u001b[39m get_domain(request\u001b[38;5;241m.\u001b[39mhttp_request\u001b[38;5;241m.\u001b[39murl) \u001b[38;5;28;01mif\u001b[39;00m redirect_settings[\u001b[38;5;124m\"\u001b[39m\u001b[38;5;124mallow\u001b[39m\u001b[38;5;124m\"\u001b[39m] \u001b[38;5;28;01melse\u001b[39;00m \u001b[38;5;28;01mNone\u001b[39;00m\n\u001b[1;32m    203\u001b[0m \u001b[38;5;28;01mwhile\u001b[39;00m retryable:\n\u001b[0;32m--> 204\u001b[0m     response \u001b[38;5;241m=\u001b[39m \u001b[38;5;28;43mself\u001b[39;49m\u001b[38;5;241;43m.\u001b[39;49m\u001b[43mnext\u001b[49m\u001b[38;5;241;43m.\u001b[39;49m\u001b[43msend\u001b[49m\u001b[43m(\u001b[49m\u001b[43mrequest\u001b[49m\u001b[43m)\u001b[49m\n\u001b[1;32m    205\u001b[0m     redirect_location \u001b[38;5;241m=\u001b[39m \u001b[38;5;28mself\u001b[39m\u001b[38;5;241m.\u001b[39mget_redirect_location(response)\n\u001b[1;32m    206\u001b[0m     \u001b[38;5;28;01mif\u001b[39;00m redirect_location \u001b[38;5;129;01mand\u001b[39;00m redirect_settings[\u001b[38;5;124m\"\u001b[39m\u001b[38;5;124mallow\u001b[39m\u001b[38;5;124m\"\u001b[39m]:\n",
      "File \u001b[0;32m~/repos/aml/.venv/lib/python3.10/site-packages/azure/core/pipeline/policies/_retry.py:551\u001b[0m, in \u001b[0;36mRetryPolicy.send\u001b[0;34m(self, request)\u001b[0m\n\u001b[1;32m    549\u001b[0m \u001b[38;5;28mself\u001b[39m\u001b[38;5;241m.\u001b[39m_configure_timeout(request, absolute_timeout, is_response_error)\n\u001b[1;32m    550\u001b[0m request\u001b[38;5;241m.\u001b[39mcontext[\u001b[38;5;124m\"\u001b[39m\u001b[38;5;124mretry_count\u001b[39m\u001b[38;5;124m\"\u001b[39m] \u001b[38;5;241m=\u001b[39m \u001b[38;5;28mlen\u001b[39m(retry_settings[\u001b[38;5;124m\"\u001b[39m\u001b[38;5;124mhistory\u001b[39m\u001b[38;5;124m\"\u001b[39m])\n\u001b[0;32m--> 551\u001b[0m response \u001b[38;5;241m=\u001b[39m \u001b[38;5;28;43mself\u001b[39;49m\u001b[38;5;241;43m.\u001b[39;49m\u001b[43mnext\u001b[49m\u001b[38;5;241;43m.\u001b[39;49m\u001b[43msend\u001b[49m\u001b[43m(\u001b[49m\u001b[43mrequest\u001b[49m\u001b[43m)\u001b[49m\n\u001b[1;32m    552\u001b[0m \u001b[38;5;28;01mif\u001b[39;00m \u001b[38;5;28mself\u001b[39m\u001b[38;5;241m.\u001b[39mis_retry(retry_settings, response):\n\u001b[1;32m    553\u001b[0m     retry_active \u001b[38;5;241m=\u001b[39m \u001b[38;5;28mself\u001b[39m\u001b[38;5;241m.\u001b[39mincrement(retry_settings, response\u001b[38;5;241m=\u001b[39mresponse)\n",
      "File \u001b[0;32m~/repos/aml/.venv/lib/python3.10/site-packages/azure/core/pipeline/policies/_authentication.py:157\u001b[0m, in \u001b[0;36mBearerTokenCredentialPolicy.send\u001b[0;34m(self, request)\u001b[0m\n\u001b[1;32m    149\u001b[0m \u001b[38;5;28;01mdef\u001b[39;00m \u001b[38;5;21msend\u001b[39m(\u001b[38;5;28mself\u001b[39m, request: PipelineRequest[HTTPRequestType]) \u001b[38;5;241m-\u001b[39m\u001b[38;5;241m>\u001b[39m PipelineResponse[HTTPRequestType, HTTPResponseType]:\n\u001b[1;32m    150\u001b[0m \u001b[38;5;250m    \u001b[39m\u001b[38;5;124;03m\"\"\"Authorize request with a bearer token and send it to the next policy\u001b[39;00m\n\u001b[1;32m    151\u001b[0m \n\u001b[1;32m    152\u001b[0m \u001b[38;5;124;03m    :param request: The pipeline request object\u001b[39;00m\n\u001b[0;32m   (...)\u001b[0m\n\u001b[1;32m    155\u001b[0m \u001b[38;5;124;03m    :rtype: ~azure.core.pipeline.PipelineResponse\u001b[39;00m\n\u001b[1;32m    156\u001b[0m \u001b[38;5;124;03m    \"\"\"\u001b[39;00m\n\u001b[0;32m--> 157\u001b[0m     \u001b[38;5;28;43mself\u001b[39;49m\u001b[38;5;241;43m.\u001b[39;49m\u001b[43mon_request\u001b[49m\u001b[43m(\u001b[49m\u001b[43mrequest\u001b[49m\u001b[43m)\u001b[49m\n\u001b[1;32m    158\u001b[0m     \u001b[38;5;28;01mtry\u001b[39;00m:\n\u001b[1;32m    159\u001b[0m         response \u001b[38;5;241m=\u001b[39m \u001b[38;5;28mself\u001b[39m\u001b[38;5;241m.\u001b[39mnext\u001b[38;5;241m.\u001b[39msend(request)\n",
      "File \u001b[0;32m~/repos/aml/.venv/lib/python3.10/site-packages/azure/core/pipeline/policies/_authentication.py:132\u001b[0m, in \u001b[0;36mBearerTokenCredentialPolicy.on_request\u001b[0;34m(self, request)\u001b[0m\n\u001b[1;32m    129\u001b[0m \u001b[38;5;28mself\u001b[39m\u001b[38;5;241m.\u001b[39m_enforce_https(request)\n\u001b[1;32m    131\u001b[0m \u001b[38;5;28;01mif\u001b[39;00m \u001b[38;5;28mself\u001b[39m\u001b[38;5;241m.\u001b[39m_token \u001b[38;5;129;01mis\u001b[39;00m \u001b[38;5;28;01mNone\u001b[39;00m \u001b[38;5;129;01mor\u001b[39;00m \u001b[38;5;28mself\u001b[39m\u001b[38;5;241m.\u001b[39m_need_new_token:\n\u001b[0;32m--> 132\u001b[0m     \u001b[38;5;28;43mself\u001b[39;49m\u001b[38;5;241;43m.\u001b[39;49m\u001b[43m_request_token\u001b[49m\u001b[43m(\u001b[49m\u001b[38;5;241;43m*\u001b[39;49m\u001b[38;5;28;43mself\u001b[39;49m\u001b[38;5;241;43m.\u001b[39;49m\u001b[43m_scopes\u001b[49m\u001b[43m)\u001b[49m\n\u001b[1;32m    133\u001b[0m bearer_token \u001b[38;5;241m=\u001b[39m cast(Union[\u001b[38;5;124m\"\u001b[39m\u001b[38;5;124mAccessToken\u001b[39m\u001b[38;5;124m\"\u001b[39m, \u001b[38;5;124m\"\u001b[39m\u001b[38;5;124mAccessTokenInfo\u001b[39m\u001b[38;5;124m\"\u001b[39m], \u001b[38;5;28mself\u001b[39m\u001b[38;5;241m.\u001b[39m_token)\u001b[38;5;241m.\u001b[39mtoken\n\u001b[1;32m    134\u001b[0m \u001b[38;5;28mself\u001b[39m\u001b[38;5;241m.\u001b[39m_update_headers(request\u001b[38;5;241m.\u001b[39mhttp_request\u001b[38;5;241m.\u001b[39mheaders, bearer_token)\n",
      "File \u001b[0;32m~/repos/aml/.venv/lib/python3.10/site-packages/azure/core/pipeline/policies/_authentication.py:108\u001b[0m, in \u001b[0;36m_BearerTokenCredentialPolicyBase._request_token\u001b[0;34m(self, *scopes, **kwargs)\u001b[0m\n\u001b[1;32m    101\u001b[0m \u001b[38;5;28;01mdef\u001b[39;00m \u001b[38;5;21m_request_token\u001b[39m(\u001b[38;5;28mself\u001b[39m, \u001b[38;5;241m*\u001b[39mscopes: \u001b[38;5;28mstr\u001b[39m, \u001b[38;5;241m*\u001b[39m\u001b[38;5;241m*\u001b[39mkwargs: Any) \u001b[38;5;241m-\u001b[39m\u001b[38;5;241m>\u001b[39m \u001b[38;5;28;01mNone\u001b[39;00m:\n\u001b[1;32m    102\u001b[0m \u001b[38;5;250m    \u001b[39m\u001b[38;5;124;03m\"\"\"Request a new token from the credential.\u001b[39;00m\n\u001b[1;32m    103\u001b[0m \n\u001b[1;32m    104\u001b[0m \u001b[38;5;124;03m    This will call the credential's appropriate method to get a token and store it in the policy.\u001b[39;00m\n\u001b[1;32m    105\u001b[0m \n\u001b[1;32m    106\u001b[0m \u001b[38;5;124;03m    :param str scopes: The type of access needed.\u001b[39;00m\n\u001b[1;32m    107\u001b[0m \u001b[38;5;124;03m    \"\"\"\u001b[39;00m\n\u001b[0;32m--> 108\u001b[0m     \u001b[38;5;28mself\u001b[39m\u001b[38;5;241m.\u001b[39m_token \u001b[38;5;241m=\u001b[39m \u001b[38;5;28;43mself\u001b[39;49m\u001b[38;5;241;43m.\u001b[39;49m\u001b[43m_get_token\u001b[49m\u001b[43m(\u001b[49m\u001b[38;5;241;43m*\u001b[39;49m\u001b[43mscopes\u001b[49m\u001b[43m,\u001b[49m\u001b[43m \u001b[49m\u001b[38;5;241;43m*\u001b[39;49m\u001b[38;5;241;43m*\u001b[39;49m\u001b[43mkwargs\u001b[49m\u001b[43m)\u001b[49m\n",
      "File \u001b[0;32m~/repos/aml/.venv/lib/python3.10/site-packages/azure/core/pipeline/policies/_authentication.py:98\u001b[0m, in \u001b[0;36m_BearerTokenCredentialPolicyBase._get_token\u001b[0;34m(self, *scopes, **kwargs)\u001b[0m\n\u001b[1;32m     95\u001b[0m         \u001b[38;5;28;01mif\u001b[39;00m key \u001b[38;5;129;01min\u001b[39;00m TokenRequestOptions\u001b[38;5;241m.\u001b[39m\u001b[38;5;18m__annotations__\u001b[39m:  \u001b[38;5;66;03m# pylint: disable=no-member\u001b[39;00m\n\u001b[1;32m     96\u001b[0m             options[key] \u001b[38;5;241m=\u001b[39m kwargs\u001b[38;5;241m.\u001b[39mpop(key)  \u001b[38;5;66;03m# type: ignore[literal-required]\u001b[39;00m\n\u001b[0;32m---> 98\u001b[0m     \u001b[38;5;28;01mreturn\u001b[39;00m \u001b[43mcast\u001b[49m\u001b[43m(\u001b[49m\u001b[43mSupportsTokenInfo\u001b[49m\u001b[43m,\u001b[49m\u001b[43m \u001b[49m\u001b[38;5;28;43mself\u001b[39;49m\u001b[38;5;241;43m.\u001b[39;49m\u001b[43m_credential\u001b[49m\u001b[43m)\u001b[49m\u001b[38;5;241;43m.\u001b[39;49m\u001b[43mget_token_info\u001b[49m\u001b[43m(\u001b[49m\u001b[38;5;241;43m*\u001b[39;49m\u001b[43mscopes\u001b[49m\u001b[43m,\u001b[49m\u001b[43m \u001b[49m\u001b[43moptions\u001b[49m\u001b[38;5;241;43m=\u001b[39;49m\u001b[43moptions\u001b[49m\u001b[43m)\u001b[49m\n\u001b[1;32m     99\u001b[0m \u001b[38;5;28;01mreturn\u001b[39;00m cast(TokenCredential, \u001b[38;5;28mself\u001b[39m\u001b[38;5;241m.\u001b[39m_credential)\u001b[38;5;241m.\u001b[39mget_token(\u001b[38;5;241m*\u001b[39mscopes, \u001b[38;5;241m*\u001b[39m\u001b[38;5;241m*\u001b[39mkwargs)\n",
      "File \u001b[0;32m~/repos/aml/.venv/lib/python3.10/site-packages/azure/identity/_credentials/default.py:255\u001b[0m, in \u001b[0;36mDefaultAzureCredential.get_token_info\u001b[0;34m(self, options, *scopes)\u001b[0m\n\u001b[1;32m    252\u001b[0m     \u001b[38;5;28;01mreturn\u001b[39;00m token_info\n\u001b[1;32m    254\u001b[0m within_dac\u001b[38;5;241m.\u001b[39mset(\u001b[38;5;28;01mTrue\u001b[39;00m)\n\u001b[0;32m--> 255\u001b[0m token_info \u001b[38;5;241m=\u001b[39m \u001b[43mcast\u001b[49m\u001b[43m(\u001b[49m\u001b[43mSupportsTokenInfo\u001b[49m\u001b[43m,\u001b[49m\u001b[43m \u001b[49m\u001b[38;5;28;43msuper\u001b[39;49m\u001b[43m(\u001b[49m\u001b[43m)\u001b[49m\u001b[43m)\u001b[49m\u001b[38;5;241;43m.\u001b[39;49m\u001b[43mget_token_info\u001b[49m\u001b[43m(\u001b[49m\u001b[38;5;241;43m*\u001b[39;49m\u001b[43mscopes\u001b[49m\u001b[43m,\u001b[49m\u001b[43m \u001b[49m\u001b[43moptions\u001b[49m\u001b[38;5;241;43m=\u001b[39;49m\u001b[43moptions\u001b[49m\u001b[43m)\u001b[49m\n\u001b[1;32m    256\u001b[0m within_dac\u001b[38;5;241m.\u001b[39mset(\u001b[38;5;28;01mFalse\u001b[39;00m)\n\u001b[1;32m    257\u001b[0m \u001b[38;5;28;01mreturn\u001b[39;00m token_info\n",
      "File \u001b[0;32m~/repos/aml/.venv/lib/python3.10/site-packages/azure/identity/_credentials/chained.py:219\u001b[0m, in \u001b[0;36mChainedTokenCredential.get_token_info\u001b[0;34m(self, options, *scopes)\u001b[0m\n\u001b[1;32m    211\u001b[0m message \u001b[38;5;241m=\u001b[39m (\n\u001b[1;32m    212\u001b[0m     \u001b[38;5;28mself\u001b[39m\u001b[38;5;241m.\u001b[39m\u001b[38;5;18m__class__\u001b[39m\u001b[38;5;241m.\u001b[39m\u001b[38;5;18m__name__\u001b[39m\n\u001b[1;32m    213\u001b[0m     \u001b[38;5;241m+\u001b[39m \u001b[38;5;124m\"\u001b[39m\u001b[38;5;124m failed to retrieve a token from the included credentials.\u001b[39m\u001b[38;5;124m\"\u001b[39m\n\u001b[0;32m   (...)\u001b[0m\n\u001b[1;32m    216\u001b[0m     \u001b[38;5;124m\"\u001b[39m\u001b[38;5;124mhttps://aka.ms/azsdk/python/identity/defaultazurecredential/troubleshoot.\u001b[39m\u001b[38;5;124m\"\u001b[39m\n\u001b[1;32m    217\u001b[0m )\n\u001b[1;32m    218\u001b[0m _LOGGER\u001b[38;5;241m.\u001b[39mwarning(message)\n\u001b[0;32m--> 219\u001b[0m \u001b[38;5;28;01mraise\u001b[39;00m ClientAuthenticationError(message\u001b[38;5;241m=\u001b[39mmessage)\n",
      "\u001b[0;31mClientAuthenticationError\u001b[0m: DefaultAzureCredential failed to retrieve a token from the included credentials.\nAttempted credentials:\n\tEnvironmentCredential: EnvironmentCredential authentication unavailable. Environment variables are not fully configured.\nVisit https://aka.ms/azsdk/python/identity/environmentcredential/troubleshoot to troubleshoot this issue.\n\tManagedIdentityCredential: ManagedIdentityCredential authentication unavailable, no response from the IMDS endpoint.\n\tSharedTokenCacheCredential: SharedTokenCacheCredential authentication unavailable. No accounts were found in the cache.\n\tAzureCliCredential: ERROR: AADSTS70043: The refresh token has expired or is invalid due to sign-in frequency checks by conditional access. The token was issued on 2025-01-06T07:49:45.5590291Z and the maximum allowed lifetime for this request is 14400. Trace ID: 7a0c140c-ad9a-49bb-9db8-4f1897f77d00 Correlation ID: cec5b62f-e84d-4025-b7eb-3f5eb34990a7 Timestamp: 2025-01-07 09:49:22Z\nInteractive authentication is needed. Please run:\naz login --scope https://management.azure.com/.default\n\n\tAzurePowerShellCredential: PowerShell is not installed\n\tAzureDeveloperCliCredential: Azure Developer CLI could not be found. Please visit https://aka.ms/azure-dev for installation instructions and then,once installed, authenticate to your Azure account using 'azd auth login'.\nTo mitigate this issue, please refer to the troubleshooting guidelines here at https://aka.ms/azsdk/python/identity/defaultazurecredential/troubleshoot."
     ]
    }
   ],
   "source": [
    "[print(x) for x in ml_client.data.list()]"
   ]
  },
  {
   "cell_type": "code",
   "execution_count": 5,
   "metadata": {},
   "outputs": [
    {
     "name": "stderr",
     "output_type": "stream",
     "text": [
      "mkdir: cannot create directory ‘azureml-environment’: File exists\n"
     ]
    }
   ],
   "source": [
    "\n",
    "%%bash\n",
    "mkdir azureml-environment\n",
    "echo \"\"\"\n",
    "FROM pytorch/pytorch:2.0.0-cuda11.7-cudnn8-runtime\n",
    "\n",
    "# Downloads to user config dir\n",
    "ADD https://ultralytics.com/assets/Arial.ttf https://ultralytics.com/assets/Arial.Unicode.ttf /root/.config/Ultralytics/\n",
    "\n",
    "# Install linux packages\n",
    "ENV DEBIAN_FRONTEND noninteractive\n",
    "RUN apt update\n",
    "RUN TZ=Etc/UTC apt install -y tzdata\n",
    "RUN apt install --no-install-recommends -y gcc git zip curl htop libgl1-mesa-glx libglib2.0-0 libpython3-dev gnupg g++\n",
    "\n",
    "# Security updates\n",
    "# https://security.snyk.io/vuln/SNYK-UBUNTU1804-OPENSSL-3314796\n",
    "RUN apt upgrade --no-install-recommends -y openssl tar\n",
    "\n",
    "RUN pip install ultralytics==8.0.132\n",
    "RUN pip install azureml-mlflow==1.52.0\n",
    "RUN pip install mlflow==2.4.2\n",
    "\"\"\" > azureml-environment/Dockerfile"
   ]
  },
  {
   "cell_type": "code",
   "execution_count": 11,
   "metadata": {},
   "outputs": [],
   "source": [
    "#lets create a compute instance\n",
    "from azure.ai.ml.entities import ComputeInstance, AmlCompute, Environment, BuildContext\n",
    "\n",
    "\n",
    "ci_basic_name = \"defaultclustersbxdondorp\"\n",
    "ci_basic = AmlCompute(name=ci_basic_name, size=\"STANDARD_DS3_v2\")\n",
    "# ml_client.begin_create_or_update(ci_basic).result()"
   ]
  },
  {
   "cell_type": "code",
   "execution_count": 12,
   "metadata": {},
   "outputs": [
    {
     "name": "stderr",
     "output_type": "stream",
     "text": [
      "\u001b[32mUploading azureml-environment (0.0 MBs): 100%|██████████| 684/684 [00:00<00:00, 24850.61it/s]\n",
      "\u001b[39m\n",
      "\n"
     ]
    },
    {
     "data": {
      "text/plain": [
       "Environment({'arm_type': 'environment_version', 'latest_version': None, 'image': None, 'intellectual_property': None, 'is_anonymous': False, 'auto_increment_version': False, 'auto_delete_setting': None, 'name': 'dockerenv', 'description': None, 'tags': {}, 'properties': {'azureml.labels': 'latest'}, 'print_as_yaml': False, 'id': '/subscriptions/11f51dee-57cd-4d47-b542-8e244706e163/resourceGroups/sbx-dondorp/providers/Microsoft.MachineLearningServices/workspaces/amlsbxdondorp/environments/dockerenv/versions/1', 'Resource__source_path': '', 'base_path': '/home/daniel/repos/aml/notebooks', 'creation_context': <azure.ai.ml.entities._system_data.SystemData object at 0x7f90a4335ea0>, 'serialize': <msrest.serialization.Serializer object at 0x7f90a4335cf0>, 'version': '1', 'conda_file': None, 'build': <azure.ai.ml.entities._assets.environment.BuildContext object at 0x7f90a4335660>, 'inference_config': None, 'os_type': 'Linux', 'conda_file_path': None, 'path': None, 'datastore': None, 'upload_hash': None, 'translated_conda_file': None})"
      ]
     },
     "execution_count": 12,
     "metadata": {},
     "output_type": "execute_result"
    }
   ],
   "source": [
    "env = Environment(name=\"dockerenv\", build=BuildContext(path=\"azureml-environment\"))\n",
    "ml_client.environments.create_or_update(env)"
   ]
  },
  {
   "cell_type": "code",
   "execution_count": 114,
   "metadata": {},
   "outputs": [
    {
     "name": "stdout",
     "output_type": "stream",
     "text": [
      "[Environment({'arm_type': 'environment_version', 'latest_version': '2', 'image': None, 'intellectual_property': None, 'is_anonymous': False, 'auto_increment_version': True, 'auto_delete_setting': None, 'name': 'testenv2', 'description': None, 'tags': {}, 'properties': {}, 'print_as_yaml': False, 'id': '/subscriptions/11f51dee-57cd-4d47-b542-8e244706e163/resourceGroups/sbx-dondorp/providers/Microsoft.MachineLearningServices/workspaces/amlsbxdondorp/environments/testenv2', 'Resource__source_path': '', 'base_path': '/home/daniel/repos/aml/notebooks', 'creation_context': <azure.ai.ml.entities._system_data.SystemData object at 0x7efd10547070>, 'serialize': <msrest.serialization.Serializer object at 0x7efd28957eb0>, 'version': None, 'conda_file': None, 'build': None, 'inference_config': None, 'os_type': None, 'conda_file_path': None, 'path': None, 'datastore': None, 'upload_hash': None, 'translated_conda_file': None}), Environment({'arm_type': 'environment_version', 'latest_version': '1', 'image': None, 'intellectual_property': None, 'is_anonymous': False, 'auto_increment_version': True, 'auto_delete_setting': None, 'name': 'testenv', 'description': None, 'tags': {}, 'properties': {}, 'print_as_yaml': False, 'id': '/subscriptions/11f51dee-57cd-4d47-b542-8e244706e163/resourceGroups/sbx-dondorp/providers/Microsoft.MachineLearningServices/workspaces/amlsbxdondorp/environments/testenv', 'Resource__source_path': '', 'base_path': '/home/daniel/repos/aml/notebooks', 'creation_context': <azure.ai.ml.entities._system_data.SystemData object at 0x7efd28956410>, 'serialize': <msrest.serialization.Serializer object at 0x7efd2895d720>, 'version': None, 'conda_file': None, 'build': None, 'inference_config': None, 'os_type': None, 'conda_file_path': None, 'path': None, 'datastore': None, 'upload_hash': None, 'translated_conda_file': None}), Environment({'arm_type': 'environment_version', 'latest_version': '10', 'image': None, 'intellectual_property': None, 'is_anonymous': False, 'auto_increment_version': True, 'auto_delete_setting': None, 'name': 'AzureML-ACPT-pytorch-1.13-py38-cuda11.7-gpu', 'description': None, 'tags': {}, 'properties': {}, 'print_as_yaml': False, 'id': '/subscriptions/11f51dee-57cd-4d47-b542-8e244706e163/resourceGroups/sbx-dondorp/providers/Microsoft.MachineLearningServices/workspaces/amlsbxdondorp/environments/AzureML-ACPT-pytorch-1.13-py38-cuda11.7-gpu', 'Resource__source_path': '', 'base_path': '/home/daniel/repos/aml/notebooks', 'creation_context': <azure.ai.ml.entities._system_data.SystemData object at 0x7efd2893bbe0>, 'serialize': <msrest.serialization.Serializer object at 0x7efd2895ddb0>, 'version': None, 'conda_file': None, 'build': None, 'inference_config': None, 'os_type': None, 'conda_file_path': None, 'path': None, 'datastore': None, 'upload_hash': None, 'translated_conda_file': None})]\n"
     ]
    }
   ],
   "source": [
    "envs = ml_client.environments.list()\n",
    "envs = list(envs)\n",
    "print(envs)\n",
    "if \"testenv\" not in [x.name for x in envs]:\n",
    "    env = Environment(image=\"mcr.microsoft.com/azureml/openmpi4.1.0-ubuntu20.04\",\n",
    "                      conda_file=\"/home/daniel/repos/aml/environments/basic_env.yml\",\n",
    "                      name=\"testenv\",\n",
    "                      description=\"test environment from conda file\",\n",
    "                      )\n",
    "    ml_client.environments.create_or_update(env)"
   ]
  },
  {
   "cell_type": "code",
   "execution_count": null,
   "metadata": {},
   "outputs": [],
   "source": [
    "custom_env_name = \"aml-scikit-learn\"\n",
    "\n",
    "custom_job_env = Environment(\n",
    "    name=custom_env_name,\n",
    "    description=\"Custom environment for Credit Card Defaults job\",\n",
    "    tags={\"scikit-learn\": \"1.0.2\"},\n",
    "    conda_file=os.path.join(dependencies_dir, \"conda.yaml\"),\n",
    "    image=\"mcr.microsoft.com/azureml/openmpi4.1.0-ubuntu20.04:latest\",\n",
    ")\n",
    "custom_job_env = ml_client.environments.create_or_update(custom_job_env)"
   ]
  },
  {
   "cell_type": "code",
   "execution_count": 26,
   "metadata": {},
   "outputs": [],
   "source": [
    "from azure.ai.ml import command\n",
    "\n",
    "\n",
    "# Define the job\n",
    "job = command(\n",
    "    code=\"/home/daniel/repos/aml/notebooks/scripts\",\n",
    "    command=\"python hello_world.py\",\n",
    "    environment=\"azureml:dockerenv:1\",  # Use the registered environment\n",
    "    compute=\"defaultcomputesbxdondorp\",\n",
    "    display_name=\"HelloWorld\",\n",
    "    experiment_name=\"Hello World Experiment\",\n",
    ")\n"
   ]
  },
  {
   "cell_type": "code",
   "execution_count": 27,
   "metadata": {},
   "outputs": [
    {
     "name": "stdout",
     "output_type": "stream",
     "text": [
      "type: command\n",
      "environment: azureml:dockerenv:1\n",
      "component:\n",
      "  name: azureml_anonymous\n",
      "  version: '1'\n",
      "  display_name: HelloWorld\n",
      "  type: command\n",
      "  command: python hello_world.py\n",
      "  environment: azureml:dockerenv:1\n",
      "  code: /home/daniel/repos/aml/notebooks/scripts\n",
      "  is_deterministic: true\n",
      "compute: azureml:defaultcomputesbxdondorp\n",
      "\n"
     ]
    }
   ],
   "source": [
    "print(job)"
   ]
  },
  {
   "cell_type": "code",
   "execution_count": 31,
   "metadata": {},
   "outputs": [
    {
     "name": "stdout",
     "output_type": "stream",
     "text": [
      "Archive:  coco128.zip\n",
      "   creating: coco128/\n",
      "  inflating: coco128/LICENSE         \n",
      "   creating: coco128/images/\n",
      "   creating: coco128/images/train2017/\n",
      "  inflating: coco128/images/train2017/000000000612.jpg  \n",
      "  inflating: coco128/images/train2017/000000000404.jpg  \n",
      "  inflating: coco128/images/train2017/000000000438.jpg  \n",
      "  inflating: coco128/images/train2017/000000000389.jpg  \n",
      "  inflating: coco128/images/train2017/000000000564.jpg  \n",
      "  inflating: coco128/images/train2017/000000000149.jpg  \n",
      "  inflating: coco128/images/train2017/000000000605.jpg  \n",
      "  inflating: coco128/images/train2017/000000000349.jpg  \n",
      "  inflating: coco128/images/train2017/000000000201.jpg  \n",
      "  inflating: coco128/images/train2017/000000000599.jpg  \n",
      "  inflating: coco128/images/train2017/000000000572.jpg  \n",
      "  inflating: coco128/images/train2017/000000000360.jpg  \n",
      "  inflating: coco128/images/train2017/000000000370.jpg  \n",
      "  inflating: coco128/images/train2017/000000000562.jpg  \n",
      "  inflating: coco128/images/train2017/000000000589.jpg  \n",
      "  inflating: coco128/images/train2017/000000000359.jpg  \n",
      "  inflating: coco128/images/train2017/000000000629.jpg  \n",
      "  inflating: coco128/images/train2017/000000000165.jpg  \n",
      "  inflating: coco128/images/train2017/000000000415.jpg  \n",
      "  inflating: coco128/images/train2017/000000000575.jpg  \n",
      "  inflating: coco128/images/train2017/000000000560.jpg  \n",
      "  inflating: coco128/images/train2017/000000000400.jpg  \n",
      "  inflating: coco128/images/train2017/000000000428.jpg  \n",
      "  inflating: coco128/images/train2017/000000000164.jpg  \n",
      "  inflating: coco128/images/train2017/000000000315.jpg  \n",
      "  inflating: coco128/images/train2017/000000000077.jpg  \n",
      "  inflating: coco128/images/train2017/000000000089.jpg  \n",
      "  inflating: coco128/images/train2017/000000000260.jpg  \n",
      "  inflating: coco128/images/train2017/000000000328.jpg  \n",
      "  inflating: coco128/images/train2017/000000000472.jpg  \n",
      "  inflating: coco128/images/train2017/000000000510.jpg  \n",
      "  inflating: coco128/images/train2017/000000000074.jpg  \n",
      "  inflating: coco128/images/train2017/000000000049.jpg  \n",
      "  inflating: coco128/images/train2017/000000000061.jpg  \n",
      "  inflating: coco128/images/train2017/000000000263.jpg  \n",
      "  inflating: coco128/images/train2017/000000000459.jpg  \n",
      "  inflating: coco128/images/train2017/000000000471.jpg  \n",
      "  inflating: coco128/images/train2017/000000000307.jpg  \n",
      "  inflating: coco128/images/train2017/000000000529.jpg  \n",
      "  inflating: coco128/images/train2017/000000000071.jpg  \n",
      "  inflating: coco128/images/train2017/000000000064.jpg  \n",
      "  inflating: coco128/images/train2017/000000000514.jpg  \n",
      "  inflating: coco128/images/train2017/000000000474.jpg  \n",
      "  inflating: coco128/images/train2017/000000000312.jpg  \n",
      "  inflating: coco128/images/train2017/000000000110.jpg  \n",
      "  inflating: coco128/images/train2017/000000000138.jpg  \n",
      "  inflating: coco128/images/train2017/000000000338.jpg  \n",
      "  inflating: coco128/images/train2017/000000000502.jpg  \n",
      "  inflating: coco128/images/train2017/000000000072.jpg  \n",
      "  inflating: coco128/images/train2017/000000000073.jpg  \n",
      "  inflating: coco128/images/train2017/000000000488.jpg  \n",
      "  inflating: coco128/images/train2017/000000000113.jpg  \n",
      "  inflating: coco128/images/train2017/000000000136.jpg  \n",
      "  inflating: coco128/images/train2017/000000000650.jpg  \n",
      "  inflating: coco128/images/train2017/000000000446.jpg  \n",
      "  inflating: coco128/images/train2017/000000000308.jpg  \n",
      "  inflating: coco128/images/train2017/000000000491.jpg  \n",
      "  inflating: coco128/images/train2017/000000000532.jpg  \n",
      "  inflating: coco128/images/train2017/000000000283.jpg  \n",
      "  inflating: coco128/images/train2017/000000000042.jpg  \n",
      "  inflating: coco128/images/train2017/000000000081.jpg  \n",
      "  inflating: coco128/images/train2017/000000000094.jpg  \n",
      "  inflating: coco128/images/train2017/000000000241.jpg  \n",
      "  inflating: coco128/images/train2017/000000000490.jpg  \n",
      "  inflating: coco128/images/train2017/000000000309.jpg  \n",
      "  inflating: coco128/images/train2017/000000000321.jpg  \n",
      "  inflating: coco128/images/train2017/000000000109.jpg  \n",
      "  inflating: coco128/images/train2017/000000000486.jpg  \n",
      "  inflating: coco128/images/train2017/000000000531.jpg  \n",
      "  inflating: coco128/images/train2017/000000000257.jpg  \n",
      "  inflating: coco128/images/train2017/000000000294.jpg  \n",
      "  inflating: coco128/images/train2017/000000000450.jpg  \n",
      "  inflating: coco128/images/train2017/000000000322.jpg  \n",
      "  inflating: coco128/images/train2017/000000000326.jpg  \n",
      "  inflating: coco128/images/train2017/000000000332.jpg  \n",
      "  inflating: coco128/images/train2017/000000000508.jpg  \n",
      "  inflating: coco128/images/train2017/000000000520.jpg  \n",
      "  inflating: coco128/images/train2017/000000000078.jpg  \n",
      "  inflating: coco128/images/train2017/000000000086.jpg  \n",
      "  inflating: coco128/images/train2017/000000000092.jpg  \n",
      "  inflating: coco128/images/train2017/000000000247.jpg  \n",
      "  inflating: coco128/images/train2017/000000000643.jpg  \n",
      "  inflating: coco128/images/train2017/000000000133.jpg  \n",
      "  inflating: coco128/images/train2017/000000000127.jpg  \n",
      "  inflating: coco128/images/train2017/000000000641.jpg  \n",
      "  inflating: coco128/images/train2017/000000000443.jpg  \n",
      "  inflating: coco128/images/train2017/000000000536.jpg  \n",
      "  inflating: coco128/images/train2017/000000000250.jpg  \n",
      "  inflating: coco128/images/train2017/000000000196.jpg  \n",
      "  inflating: coco128/images/train2017/000000000357.jpg  \n",
      "  inflating: coco128/images/train2017/000000000431.jpg  \n",
      "  inflating: coco128/images/train2017/000000000419.jpg  \n",
      "  inflating: coco128/images/train2017/000000000394.jpg  \n",
      "  inflating: coco128/images/train2017/000000000009.jpg  \n",
      "  inflating: coco128/images/train2017/000000000034.jpg  \n",
      "  inflating: coco128/images/train2017/000000000544.jpg  \n",
      "  inflating: coco128/images/train2017/000000000395.jpg  \n",
      "  inflating: coco128/images/train2017/000000000626.jpg  \n",
      "  inflating: coco128/images/train2017/000000000154.jpg  \n",
      "  inflating: coco128/images/train2017/000000000142.jpg  \n",
      "  inflating: coco128/images/train2017/000000000368.jpg  \n",
      "  inflating: coco128/images/train2017/000000000397.jpg  \n",
      "  inflating: coco128/images/train2017/000000000208.jpg  \n",
      "  inflating: coco128/images/train2017/000000000036.jpg  \n",
      "  inflating: coco128/images/train2017/000000000584.jpg  \n",
      "  inflating: coco128/images/train2017/000000000590.jpg  \n",
      "  inflating: coco128/images/train2017/000000000382.jpg  \n",
      "  inflating: coco128/images/train2017/000000000194.jpg  \n",
      "  inflating: coco128/images/train2017/000000000625.jpg  \n",
      "  inflating: coco128/images/train2017/000000000143.jpg  \n",
      "  inflating: coco128/images/train2017/000000000581.jpg  \n",
      "  inflating: coco128/images/train2017/000000000595.jpg  \n",
      "  inflating: coco128/images/train2017/000000000542.jpg  \n",
      "  inflating: coco128/images/train2017/000000000387.jpg  \n",
      "  inflating: coco128/images/train2017/000000000436.jpg  \n",
      "  inflating: coco128/images/train2017/000000000634.jpg  \n",
      "  inflating: coco128/images/train2017/000000000620.jpg  \n",
      "  inflating: coco128/images/train2017/000000000636.jpg  \n",
      "  inflating: coco128/images/train2017/000000000144.jpg  \n",
      "  inflating: coco128/images/train2017/000000000540.jpg  \n",
      "  inflating: coco128/images/train2017/000000000597.jpg  \n",
      "  inflating: coco128/images/train2017/000000000030.jpg  \n",
      "  inflating: coco128/images/train2017/000000000025.jpg  \n",
      "  inflating: coco128/images/train2017/000000000569.jpg  \n",
      "  inflating: coco128/images/train2017/000000000384.jpg  \n",
      "  inflating: coco128/images/train2017/000000000192.jpg  \n",
      "  inflating: coco128/images/train2017/000000000623.jpg  \n",
      "  inflating: coco128/images/train2017/000000000151.jpg  \n",
      "   creating: coco128/labels/\n",
      "   creating: coco128/labels/train2017/\n",
      "  inflating: coco128/labels/train2017/000000000260.txt  \n",
      "  inflating: coco128/labels/train2017/000000000089.txt  \n",
      "  inflating: coco128/labels/train2017/000000000328.txt  \n",
      "  inflating: coco128/labels/train2017/000000000472.txt  \n",
      "  inflating: coco128/labels/train2017/000000000315.txt  \n",
      "  inflating: coco128/labels/train2017/000000000659.txt  \n",
      "  inflating: coco128/labels/train2017/000000000077.txt  \n",
      "  inflating: coco128/labels/train2017/000000000263.txt  \n",
      "  inflating: coco128/labels/train2017/000000000049.txt  \n",
      "  inflating: coco128/labels/train2017/000000000061.txt  \n",
      "  inflating: coco128/labels/train2017/000000000459.txt  \n",
      "  inflating: coco128/labels/train2017/000000000471.txt  \n",
      "  inflating: coco128/labels/train2017/000000000074.txt  \n",
      "  inflating: coco128/labels/train2017/000000000510.txt  \n",
      "  inflating: coco128/labels/train2017/000000000514.txt  \n",
      "  inflating: coco128/labels/train2017/000000000064.txt  \n",
      "  inflating: coco128/labels/train2017/000000000110.txt  \n",
      "  inflating: coco128/labels/train2017/000000000138.txt  \n",
      "  inflating: coco128/labels/train2017/000000000312.txt  \n",
      "  inflating: coco128/labels/train2017/000000000474.txt  \n",
      "  inflating: coco128/labels/train2017/000000000307.txt  \n",
      "  inflating: coco128/labels/train2017/000000000071.txt  \n",
      "  inflating: coco128/labels/train2017/000000000529.txt  \n",
      "  inflating: coco128/labels/train2017/000000000073.txt  \n",
      "  inflating: coco128/labels/train2017/000000000113.txt  \n",
      "  inflating: coco128/labels/train2017/000000000488.txt  \n",
      "  inflating: coco128/labels/train2017/000000000338.txt  \n",
      "  inflating: coco128/labels/train2017/000000000072.txt  \n",
      "  inflating: coco128/labels/train2017/000000000502.txt  \n",
      "  inflating: coco128/labels/train2017/000000000149.txt  \n",
      "  inflating: coco128/labels/train2017/000000000389.txt  \n",
      "  inflating: coco128/labels/train2017/000000000404.txt  \n",
      "  inflating: coco128/labels/train2017/000000000438.txt  \n",
      "  inflating: coco128/labels/train2017/000000000612.txt  \n",
      "  inflating: coco128/labels/train2017/000000000564.txt  \n",
      "  inflating: coco128/labels/train2017/000000000572.txt  \n",
      "  inflating: coco128/labels/train2017/000000000599.txt  \n",
      "  inflating: coco128/labels/train2017/000000000360.txt  \n",
      "  inflating: coco128/labels/train2017/000000000349.txt  \n",
      "  inflating: coco128/labels/train2017/000000000605.txt  \n",
      "  inflating: coco128/labels/train2017/000000000201.txt  \n",
      "  inflating: coco128/labels/train2017/000000000629.txt  \n",
      "  inflating: coco128/labels/train2017/000000000359.txt  \n",
      "  inflating: coco128/labels/train2017/000000000370.txt  \n",
      "  inflating: coco128/labels/train2017/000000000589.txt  \n",
      "  inflating: coco128/labels/train2017/000000000562.txt  \n",
      "  inflating: coco128/labels/train2017/000000000560.txt  \n",
      "  inflating: coco128/labels/train2017/000000000164.txt  \n",
      "  inflating: coco128/labels/train2017/000000000400.txt  \n",
      "  inflating: coco128/labels/train2017/000000000428.txt  \n",
      "  inflating: coco128/labels/train2017/000000000415.txt  \n",
      "  inflating: coco128/labels/train2017/000000000165.txt  \n",
      "  inflating: coco128/labels/train2017/000000000575.txt  \n",
      "  inflating: coco128/labels/train2017/000000000544.txt  \n",
      "  inflating: coco128/labels/train2017/000000000034.txt  \n",
      "  inflating: coco128/labels/train2017/000000000626.txt  \n",
      "  inflating: coco128/labels/train2017/000000000154.txt  \n",
      "  inflating: coco128/labels/train2017/000000000395.txt  \n",
      "  inflating: coco128/labels/train2017/000000000394.txt  \n",
      "  inflating: coco128/labels/train2017/000000000431.txt  \n",
      "  inflating: coco128/labels/train2017/000000000357.txt  \n",
      "  inflating: coco128/labels/train2017/000000000419.txt  \n",
      "  inflating: coco128/labels/train2017/000000000196.txt  \n",
      "  inflating: coco128/labels/train2017/000000000009.txt  \n",
      "  inflating: coco128/labels/train2017/000000000584.txt  \n",
      "  inflating: coco128/labels/train2017/000000000590.txt  \n",
      "  inflating: coco128/labels/train2017/000000000143.txt  \n",
      "  inflating: coco128/labels/train2017/000000000625.txt  \n",
      "  inflating: coco128/labels/train2017/000000000194.txt  \n",
      "  inflating: coco128/labels/train2017/000000000382.txt  \n",
      "  inflating: coco128/labels/train2017/000000000397.txt  \n",
      "  inflating: coco128/labels/train2017/000000000368.txt  \n",
      "  inflating: coco128/labels/train2017/000000000142.txt  \n",
      "  inflating: coco128/labels/train2017/000000000036.txt  \n",
      "  inflating: coco128/labels/train2017/000000000208.txt  \n",
      "  inflating: coco128/labels/train2017/000000000542.txt  \n",
      "  inflating: coco128/labels/train2017/000000000581.txt  \n",
      "  inflating: coco128/labels/train2017/000000000595.txt  \n",
      "  inflating: coco128/labels/train2017/000000000634.txt  \n",
      "  inflating: coco128/labels/train2017/000000000620.txt  \n",
      "  inflating: coco128/labels/train2017/000000000436.txt  \n",
      "  inflating: coco128/labels/train2017/000000000387.txt  \n",
      "  inflating: coco128/labels/train2017/000000000569.txt  \n",
      "  inflating: coco128/labels/train2017/000000000025.txt  \n",
      "  inflating: coco128/labels/train2017/000000000623.txt  \n",
      "  inflating: coco128/labels/train2017/000000000151.txt  \n",
      "  inflating: coco128/labels/train2017/000000000192.txt  \n",
      "  inflating: coco128/labels/train2017/000000000384.txt  \n",
      "  inflating: coco128/labels/train2017/000000000636.txt  \n",
      "  inflating: coco128/labels/train2017/000000000144.txt  \n",
      "  inflating: coco128/labels/train2017/000000000030.txt  \n",
      "  inflating: coco128/labels/train2017/000000000597.txt  \n",
      "  inflating: coco128/labels/train2017/000000000540.txt  \n",
      "  inflating: coco128/labels/train2017/000000000241.txt  \n",
      "  inflating: coco128/labels/train2017/000000000094.txt  \n",
      "  inflating: coco128/labels/train2017/000000000309.txt  \n",
      "  inflating: coco128/labels/train2017/000000000321.txt  \n",
      "  inflating: coco128/labels/train2017/000000000490.txt  \n",
      "  inflating: coco128/labels/train2017/000000000491.txt  \n",
      "  inflating: coco128/labels/train2017/000000000446.txt  \n",
      "  inflating: coco128/labels/train2017/000000000308.txt  \n",
      "  inflating: coco128/labels/train2017/000000000650.txt  \n",
      "  inflating: coco128/labels/train2017/000000000136.txt  \n",
      "  inflating: coco128/labels/train2017/000000000081.txt  \n",
      "  inflating: coco128/labels/train2017/000000000042.txt  \n",
      "  inflating: coco128/labels/train2017/000000000283.txt  \n",
      "  inflating: coco128/labels/train2017/000000000532.txt  \n",
      "  inflating: coco128/labels/train2017/000000000450.txt  \n",
      "  inflating: coco128/labels/train2017/000000000322.txt  \n",
      "  inflating: coco128/labels/train2017/000000000486.txt  \n",
      "  inflating: coco128/labels/train2017/000000000109.txt  \n",
      "  inflating: coco128/labels/train2017/000000000294.txt  \n",
      "  inflating: coco128/labels/train2017/000000000257.txt  \n",
      "  inflating: coco128/labels/train2017/000000000531.txt  \n",
      "  inflating: coco128/labels/train2017/000000000247.txt  \n",
      "  inflating: coco128/labels/train2017/000000000086.txt  \n",
      "  inflating: coco128/labels/train2017/000000000092.txt  \n",
      "  inflating: coco128/labels/train2017/000000000643.txt  \n",
      "  inflating: coco128/labels/train2017/000000000326.txt  \n",
      "  inflating: coco128/labels/train2017/000000000332.txt  \n",
      "  inflating: coco128/labels/train2017/000000000656.txt  \n",
      "  inflating: coco128/labels/train2017/000000000078.txt  \n",
      "  inflating: coco128/labels/train2017/000000000520.txt  \n",
      "  inflating: coco128/labels/train2017/000000000536.txt  \n",
      "  inflating: coco128/labels/train2017/000000000443.txt  \n",
      "  inflating: coco128/labels/train2017/000000000133.txt  \n",
      "  inflating: coco128/labels/train2017/000000000641.txt  \n",
      "  inflating: coco128/labels/train2017/000000000127.txt  \n",
      "  inflating: coco128/README.txt      \n"
     ]
    }
   ],
   "source": [
    "%%bash\n",
    "# For this tutorial we will use the coco128 dataset: https://www.kaggle.com/ultralytics/coco128. We will create an AzureML data asset to bookmark our dataset and easily use the dataset for various trainings.\n",
    "# wget https://ultralytics.com/assets/coco128.zip\n",
    "unzip coco128.zip"
   ]
  },
  {
   "cell_type": "code",
   "execution_count": 32,
   "metadata": {},
   "outputs": [
    {
     "name": "stderr",
     "output_type": "stream",
     "text": [
      "\u001b[32mUploading coco128 (7.0 MBs): 100%|██████████| 7003402/7003402 [00:00<00:00, 7544360.34it/s] \n",
      "\u001b[39m\n",
      "\n"
     ]
    },
    {
     "data": {
      "text/plain": [
       "Data({'path': 'azureml://subscriptions/11f51dee-57cd-4d47-b542-8e244706e163/resourcegroups/sbx-dondorp/workspaces/amlsbxdondorp/datastores/workspaceblobstore/paths/LocalUpload/4cf631dbb6578745b50792fa18bee43a/coco128/', 'skip_validation': False, 'mltable_schema_url': None, 'referenced_uris': None, 'type': 'uri_folder', 'is_anonymous': False, 'auto_increment_version': False, 'auto_delete_setting': None, 'name': 'coco128', 'description': 'Coco 128 dataset', 'tags': {}, 'properties': {}, 'print_as_yaml': False, 'id': '/subscriptions/11f51dee-57cd-4d47-b542-8e244706e163/resourceGroups/sbx-dondorp/providers/Microsoft.MachineLearningServices/workspaces/amlsbxdondorp/data/coco128/versions/1', 'Resource__source_path': '', 'base_path': '/home/daniel/repos/aml/notebooks', 'creation_context': <azure.ai.ml.entities._system_data.SystemData object at 0x7f908c24c220>, 'serialize': <msrest.serialization.Serializer object at 0x7f908c24fa00>, 'version': '1', 'latest_version': None, 'datastore': None})"
      ]
     },
     "execution_count": 32,
     "metadata": {},
     "output_type": "execute_result"
    }
   ],
   "source": [
    "from azure.ai.ml.entities import Data\n",
    "from azure.ai.ml.constants import AssetTypes\n",
    "\n",
    "# Create AzureML dataset\n",
    "\n",
    "my_data = Data(\n",
    "    path=\"coco128\",\n",
    "    type=AssetTypes.URI_FOLDER,\n",
    "    description=\"Coco 128 dataset\",\n",
    "    name=\"coco128\"\n",
    ")\n",
    "\n",
    "ml_client.data.create_or_update(my_data)"
   ]
  },
  {
   "cell_type": "code",
   "execution_count": 98,
   "metadata": {},
   "outputs": [],
   "source": [
    "from azure.ai.ml import command\n",
    "from azure.ai.ml import Input\n",
    "\n",
    "job = command(\n",
    "    inputs=dict(\n",
    "        training_data=Input(\n",
    "            type=\"uri_folder\",\n",
    "            path=\"azureml:coco128:1\",\n",
    "        ),\n",
    "    #     # model_to_train=Input(\n",
    "    #     #     type=\"custom_model\",\n",
    "    #     #     path=\"azureml:yolov8n:1\"\n",
    "    #     # )\n",
    "    ),\n",
    "    code=\"scripts\",\n",
    "    command=\"\"\"\n",
    "        python3 hello_world.py\n",
    "    \"\"\",\n",
    "    environment=\"azureml:dockerenv:1\",\n",
    "    compute=\"defaultclustersbxdondorp\",\n",
    "    display_name=\"hello_world_without_inputs\",\n",
    "    experiment_name=\"hello_world_no_inputs_at_all\"\n",
    ")"
   ]
  },
  {
   "cell_type": "code",
   "execution_count": 96,
   "metadata": {},
   "outputs": [
    {
     "ename": "HttpResponseError",
     "evalue": "(UserError) Unable to create or update run boring_jewel_dfkm8z97tf : Bad Request.\nCode: UserError\nMessage: Unable to create or update run boring_jewel_dfkm8z97tf : Bad Request.\nAdditional Information:Type: ComponentName\nInfo: {\n    \"value\": \"managementfrontend\"\n}Type: Correlation\nInfo: {\n    \"value\": {\n        \"operation\": \"92db341351e1d860bc60030690f9010b\",\n        \"request\": \"a39a540914d60abd\"\n    }\n}Type: Environment\nInfo: {\n    \"value\": \"westeurope\"\n}Type: Location\nInfo: {\n    \"value\": \"westeurope\"\n}Type: Time\nInfo: {\n    \"value\": \"2025-01-06T10:04:38.8246202+00:00\"\n}Type: InnerError\nInfo: {\n    \"value\": {\n        \"code\": \"BadArgument\",\n        \"innerError\": {\n            \"code\": \"CreatRunBadRequest\",\n            \"innerError\": null\n        }\n    }\n}",
     "output_type": "error",
     "traceback": [
      "\u001b[0;31m---------------------------------------------------------------------------\u001b[0m",
      "\u001b[0;31mHttpResponseError\u001b[0m                         Traceback (most recent call last)",
      "Cell \u001b[0;32mIn[96], line 1\u001b[0m\n\u001b[0;32m----> 1\u001b[0m \u001b[43mml_client\u001b[49m\u001b[38;5;241;43m.\u001b[39;49m\u001b[43mcreate_or_update\u001b[49m\u001b[43m(\u001b[49m\u001b[43mjob\u001b[49m\u001b[43m)\u001b[49m\n",
      "File \u001b[0;32m~/repos/aml/.venv/lib/python3.10/site-packages/azure/ai/ml/_ml_client.py:1296\u001b[0m, in \u001b[0;36mMLClient.create_or_update\u001b[0;34m(self, entity, **kwargs)\u001b[0m\n\u001b[1;32m   1280\u001b[0m \u001b[38;5;28;01mdef\u001b[39;00m \u001b[38;5;21mcreate_or_update\u001b[39m(\n\u001b[1;32m   1281\u001b[0m     \u001b[38;5;28mself\u001b[39m,\n\u001b[1;32m   1282\u001b[0m     entity: T,\n\u001b[1;32m   1283\u001b[0m     \u001b[38;5;241m*\u001b[39m\u001b[38;5;241m*\u001b[39mkwargs,\n\u001b[1;32m   1284\u001b[0m ) \u001b[38;5;241m-\u001b[39m\u001b[38;5;241m>\u001b[39m T:\n\u001b[1;32m   1285\u001b[0m \u001b[38;5;250m    \u001b[39m\u001b[38;5;124;03m\"\"\"Creates or updates an Azure ML resource.\u001b[39;00m\n\u001b[1;32m   1286\u001b[0m \n\u001b[1;32m   1287\u001b[0m \u001b[38;5;124;03m    :param entity: The resource to create or update.\u001b[39;00m\n\u001b[0;32m   (...)\u001b[0m\n\u001b[1;32m   1293\u001b[0m \u001b[38;5;124;03m        , ~azure.ai.ml.entities.Environment, ~azure.ai.ml.entities.Component, ~azure.ai.ml.entities.Datastore]\u001b[39;00m\n\u001b[1;32m   1294\u001b[0m \u001b[38;5;124;03m    \"\"\"\u001b[39;00m\n\u001b[0;32m-> 1296\u001b[0m     \u001b[38;5;28;01mreturn\u001b[39;00m \u001b[43m_create_or_update\u001b[49m\u001b[43m(\u001b[49m\u001b[43mentity\u001b[49m\u001b[43m,\u001b[49m\u001b[43m \u001b[49m\u001b[38;5;28;43mself\u001b[39;49m\u001b[38;5;241;43m.\u001b[39;49m\u001b[43m_operation_container\u001b[49m\u001b[38;5;241;43m.\u001b[39;49m\u001b[43mall_operations\u001b[49m\u001b[43m,\u001b[49m\u001b[43m \u001b[49m\u001b[38;5;241;43m*\u001b[39;49m\u001b[38;5;241;43m*\u001b[39;49m\u001b[43mkwargs\u001b[49m\u001b[43m)\u001b[49m\n",
      "File \u001b[0;32m/usr/lib/python3.10/functools.py:889\u001b[0m, in \u001b[0;36msingledispatch.<locals>.wrapper\u001b[0;34m(*args, **kw)\u001b[0m\n\u001b[1;32m    885\u001b[0m \u001b[38;5;28;01mif\u001b[39;00m \u001b[38;5;129;01mnot\u001b[39;00m args:\n\u001b[1;32m    886\u001b[0m     \u001b[38;5;28;01mraise\u001b[39;00m \u001b[38;5;167;01mTypeError\u001b[39;00m(\u001b[38;5;124mf\u001b[39m\u001b[38;5;124m'\u001b[39m\u001b[38;5;132;01m{\u001b[39;00mfuncname\u001b[38;5;132;01m}\u001b[39;00m\u001b[38;5;124m requires at least \u001b[39m\u001b[38;5;124m'\u001b[39m\n\u001b[1;32m    887\u001b[0m                     \u001b[38;5;124m'\u001b[39m\u001b[38;5;124m1 positional argument\u001b[39m\u001b[38;5;124m'\u001b[39m)\n\u001b[0;32m--> 889\u001b[0m \u001b[38;5;28;01mreturn\u001b[39;00m \u001b[43mdispatch\u001b[49m\u001b[43m(\u001b[49m\u001b[43margs\u001b[49m\u001b[43m[\u001b[49m\u001b[38;5;241;43m0\u001b[39;49m\u001b[43m]\u001b[49m\u001b[38;5;241;43m.\u001b[39;49m\u001b[38;5;18;43m__class__\u001b[39;49m\u001b[43m)\u001b[49m\u001b[43m(\u001b[49m\u001b[38;5;241;43m*\u001b[39;49m\u001b[43margs\u001b[49m\u001b[43m,\u001b[49m\u001b[43m \u001b[49m\u001b[38;5;241;43m*\u001b[39;49m\u001b[38;5;241;43m*\u001b[39;49m\u001b[43mkw\u001b[49m\u001b[43m)\u001b[49m\n",
      "File \u001b[0;32m~/repos/aml/.venv/lib/python3.10/site-packages/azure/ai/ml/_ml_client.py:1355\u001b[0m, in \u001b[0;36m_\u001b[0;34m(entity, operations, **kwargs)\u001b[0m\n\u001b[1;32m   1352\u001b[0m \u001b[38;5;129m@_create_or_update\u001b[39m\u001b[38;5;241m.\u001b[39mregister(Job)\n\u001b[1;32m   1353\u001b[0m \u001b[38;5;28;01mdef\u001b[39;00m \u001b[38;5;21m_\u001b[39m(entity: Job, operations, \u001b[38;5;241m*\u001b[39m\u001b[38;5;241m*\u001b[39mkwargs):\n\u001b[1;32m   1354\u001b[0m     module_logger\u001b[38;5;241m.\u001b[39mdebug(\u001b[38;5;124m\"\u001b[39m\u001b[38;5;124mCreating or updating job\u001b[39m\u001b[38;5;124m\"\u001b[39m)\n\u001b[0;32m-> 1355\u001b[0m     \u001b[38;5;28;01mreturn\u001b[39;00m \u001b[43moperations\u001b[49m\u001b[43m[\u001b[49m\u001b[43mAzureMLResourceType\u001b[49m\u001b[38;5;241;43m.\u001b[39;49m\u001b[43mJOB\u001b[49m\u001b[43m]\u001b[49m\u001b[38;5;241;43m.\u001b[39;49m\u001b[43mcreate_or_update\u001b[49m\u001b[43m(\u001b[49m\u001b[43mentity\u001b[49m\u001b[43m,\u001b[49m\u001b[43m \u001b[49m\u001b[38;5;241;43m*\u001b[39;49m\u001b[38;5;241;43m*\u001b[39;49m\u001b[43mkwargs\u001b[49m\u001b[43m)\u001b[49m\n",
      "File \u001b[0;32m~/repos/aml/.venv/lib/python3.10/site-packages/azure/core/tracing/decorator.py:105\u001b[0m, in \u001b[0;36mdistributed_trace.<locals>.decorator.<locals>.wrapper_use_tracer\u001b[0;34m(*args, **kwargs)\u001b[0m\n\u001b[1;32m    103\u001b[0m span_impl_type \u001b[38;5;241m=\u001b[39m settings\u001b[38;5;241m.\u001b[39mtracing_implementation()\n\u001b[1;32m    104\u001b[0m \u001b[38;5;28;01mif\u001b[39;00m span_impl_type \u001b[38;5;129;01mis\u001b[39;00m \u001b[38;5;28;01mNone\u001b[39;00m:\n\u001b[0;32m--> 105\u001b[0m     \u001b[38;5;28;01mreturn\u001b[39;00m \u001b[43mfunc\u001b[49m\u001b[43m(\u001b[49m\u001b[38;5;241;43m*\u001b[39;49m\u001b[43margs\u001b[49m\u001b[43m,\u001b[49m\u001b[43m \u001b[49m\u001b[38;5;241;43m*\u001b[39;49m\u001b[38;5;241;43m*\u001b[39;49m\u001b[43mkwargs\u001b[49m\u001b[43m)\u001b[49m\n\u001b[1;32m    107\u001b[0m \u001b[38;5;66;03m# Merge span is parameter is set, but only if no explicit parent are passed\u001b[39;00m\n\u001b[1;32m    108\u001b[0m \u001b[38;5;28;01mif\u001b[39;00m merge_span \u001b[38;5;129;01mand\u001b[39;00m \u001b[38;5;129;01mnot\u001b[39;00m passed_in_parent:\n",
      "File \u001b[0;32m~/repos/aml/.venv/lib/python3.10/site-packages/azure/ai/ml/_telemetry/activity.py:372\u001b[0m, in \u001b[0;36mmonitor_with_telemetry_mixin.<locals>.monitor.<locals>.wrapper\u001b[0;34m(*args, **kwargs)\u001b[0m\n\u001b[1;32m    370\u001b[0m dimensions \u001b[38;5;241m=\u001b[39m {\u001b[38;5;241m*\u001b[39m\u001b[38;5;241m*\u001b[39mparameter_dimensions, \u001b[38;5;241m*\u001b[39m\u001b[38;5;241m*\u001b[39m(custom_dimensions \u001b[38;5;129;01mor\u001b[39;00m {})}\n\u001b[1;32m    371\u001b[0m \u001b[38;5;28;01mwith\u001b[39;00m log_activity(logger, activity_name \u001b[38;5;129;01mor\u001b[39;00m f\u001b[38;5;241m.\u001b[39m\u001b[38;5;18m__name__\u001b[39m, activity_type, dimensions) \u001b[38;5;28;01mas\u001b[39;00m activityLogger:\n\u001b[0;32m--> 372\u001b[0m     return_value \u001b[38;5;241m=\u001b[39m \u001b[43mf\u001b[49m\u001b[43m(\u001b[49m\u001b[38;5;241;43m*\u001b[39;49m\u001b[43margs\u001b[49m\u001b[43m,\u001b[49m\u001b[43m \u001b[49m\u001b[38;5;241;43m*\u001b[39;49m\u001b[38;5;241;43m*\u001b[39;49m\u001b[43mkwargs\u001b[49m\u001b[43m)\u001b[49m\n\u001b[1;32m    373\u001b[0m     \u001b[38;5;28;01mif\u001b[39;00m \u001b[38;5;129;01mnot\u001b[39;00m parameter_dimensions:\n\u001b[1;32m    374\u001b[0m         \u001b[38;5;66;03m# collect from return if no dimensions from parameter\u001b[39;00m\n\u001b[1;32m    375\u001b[0m         activityLogger\u001b[38;5;241m.\u001b[39mactivity_info\u001b[38;5;241m.\u001b[39mupdate(_collect_from_return_value(return_value))\n",
      "File \u001b[0;32m~/repos/aml/.venv/lib/python3.10/site-packages/azure/ai/ml/operations/_job_operations.py:711\u001b[0m, in \u001b[0;36mJobOperations.create_or_update\u001b[0;34m(self, job, description, compute, tags, experiment_name, skip_validation, **kwargs)\u001b[0m\n\u001b[1;32m    705\u001b[0m \u001b[38;5;28;01mif\u001b[39;00m (rest_job_resource\u001b[38;5;241m.\u001b[39mproperties\u001b[38;5;241m.\u001b[39mjob_type \u001b[38;5;241m==\u001b[39m RestJobType\u001b[38;5;241m.\u001b[39mPIPELINE) \u001b[38;5;129;01mor\u001b[39;00m (\n\u001b[1;32m    706\u001b[0m     \u001b[38;5;28mhasattr\u001b[39m(rest_job_resource\u001b[38;5;241m.\u001b[39mproperties, \u001b[38;5;124m\"\u001b[39m\u001b[38;5;124midentity\u001b[39m\u001b[38;5;124m\"\u001b[39m)\n\u001b[1;32m    707\u001b[0m     \u001b[38;5;129;01mand\u001b[39;00m (\u001b[38;5;28misinstance\u001b[39m(rest_job_resource\u001b[38;5;241m.\u001b[39mproperties\u001b[38;5;241m.\u001b[39midentity, UserIdentity))\n\u001b[1;32m    708\u001b[0m ):\n\u001b[1;32m    709\u001b[0m     \u001b[38;5;28mself\u001b[39m\u001b[38;5;241m.\u001b[39m_set_headers_with_user_aml_token(kwargs)\n\u001b[0;32m--> 711\u001b[0m result \u001b[38;5;241m=\u001b[39m \u001b[38;5;28;43mself\u001b[39;49m\u001b[38;5;241;43m.\u001b[39;49m\u001b[43m_create_or_update_with_different_version_api\u001b[49m\u001b[43m(\u001b[49m\u001b[43mrest_job_resource\u001b[49m\u001b[38;5;241;43m=\u001b[39;49m\u001b[43mrest_job_resource\u001b[49m\u001b[43m,\u001b[49m\u001b[43m \u001b[49m\u001b[38;5;241;43m*\u001b[39;49m\u001b[38;5;241;43m*\u001b[39;49m\u001b[43mkwargs\u001b[49m\u001b[43m)\u001b[49m\n\u001b[1;32m    713\u001b[0m \u001b[38;5;28;01mif\u001b[39;00m is_local_run(result):\n\u001b[1;32m    714\u001b[0m     ws_base_url \u001b[38;5;241m=\u001b[39m \u001b[38;5;28mself\u001b[39m\u001b[38;5;241m.\u001b[39m_all_operations\u001b[38;5;241m.\u001b[39mall_operations[\n\u001b[1;32m    715\u001b[0m         AzureMLResourceType\u001b[38;5;241m.\u001b[39mWORKSPACE\n\u001b[1;32m    716\u001b[0m     ]\u001b[38;5;241m.\u001b[39m_operation\u001b[38;5;241m.\u001b[39m_client\u001b[38;5;241m.\u001b[39m_base_url\n",
      "File \u001b[0;32m~/repos/aml/.venv/lib/python3.10/site-packages/azure/ai/ml/operations/_job_operations.py:759\u001b[0m, in \u001b[0;36mJobOperations._create_or_update_with_different_version_api\u001b[0;34m(self, rest_job_resource, **kwargs)\u001b[0m\n\u001b[1;32m    756\u001b[0m \u001b[38;5;28;01mif\u001b[39;00m rest_job_resource\u001b[38;5;241m.\u001b[39mproperties\u001b[38;5;241m.\u001b[39mjob_type \u001b[38;5;241m==\u001b[39m RestJobType\u001b[38;5;241m.\u001b[39mSWEEP:\n\u001b[1;32m    757\u001b[0m     service_client_operation \u001b[38;5;241m=\u001b[39m \u001b[38;5;28mself\u001b[39m\u001b[38;5;241m.\u001b[39mservice_client_01_2024_preview\u001b[38;5;241m.\u001b[39mjobs\n\u001b[0;32m--> 759\u001b[0m result \u001b[38;5;241m=\u001b[39m \u001b[43mservice_client_operation\u001b[49m\u001b[38;5;241;43m.\u001b[39;49m\u001b[43mcreate_or_update\u001b[49m\u001b[43m(\u001b[49m\n\u001b[1;32m    760\u001b[0m \u001b[43m    \u001b[49m\u001b[38;5;28;43mid\u001b[39;49m\u001b[38;5;241;43m=\u001b[39;49m\u001b[43mrest_job_resource\u001b[49m\u001b[38;5;241;43m.\u001b[39;49m\u001b[43mname\u001b[49m\u001b[43m,\u001b[49m\n\u001b[1;32m    761\u001b[0m \u001b[43m    \u001b[49m\u001b[43mresource_group_name\u001b[49m\u001b[38;5;241;43m=\u001b[39;49m\u001b[38;5;28;43mself\u001b[39;49m\u001b[38;5;241;43m.\u001b[39;49m\u001b[43m_operation_scope\u001b[49m\u001b[38;5;241;43m.\u001b[39;49m\u001b[43mresource_group_name\u001b[49m\u001b[43m,\u001b[49m\n\u001b[1;32m    762\u001b[0m \u001b[43m    \u001b[49m\u001b[43mworkspace_name\u001b[49m\u001b[38;5;241;43m=\u001b[39;49m\u001b[38;5;28;43mself\u001b[39;49m\u001b[38;5;241;43m.\u001b[39;49m\u001b[43m_workspace_name\u001b[49m\u001b[43m,\u001b[49m\n\u001b[1;32m    763\u001b[0m \u001b[43m    \u001b[49m\u001b[43mbody\u001b[49m\u001b[38;5;241;43m=\u001b[39;49m\u001b[43mrest_job_resource\u001b[49m\u001b[43m,\u001b[49m\n\u001b[1;32m    764\u001b[0m \u001b[43m    \u001b[49m\u001b[38;5;241;43m*\u001b[39;49m\u001b[38;5;241;43m*\u001b[39;49m\u001b[43mkwargs\u001b[49m\u001b[43m,\u001b[49m\n\u001b[1;32m    765\u001b[0m \u001b[43m\u001b[49m\u001b[43m)\u001b[49m\n\u001b[1;32m    767\u001b[0m \u001b[38;5;28;01mreturn\u001b[39;00m result\n",
      "File \u001b[0;32m~/repos/aml/.venv/lib/python3.10/site-packages/azure/core/tracing/decorator.py:105\u001b[0m, in \u001b[0;36mdistributed_trace.<locals>.decorator.<locals>.wrapper_use_tracer\u001b[0;34m(*args, **kwargs)\u001b[0m\n\u001b[1;32m    103\u001b[0m span_impl_type \u001b[38;5;241m=\u001b[39m settings\u001b[38;5;241m.\u001b[39mtracing_implementation()\n\u001b[1;32m    104\u001b[0m \u001b[38;5;28;01mif\u001b[39;00m span_impl_type \u001b[38;5;129;01mis\u001b[39;00m \u001b[38;5;28;01mNone\u001b[39;00m:\n\u001b[0;32m--> 105\u001b[0m     \u001b[38;5;28;01mreturn\u001b[39;00m \u001b[43mfunc\u001b[49m\u001b[43m(\u001b[49m\u001b[38;5;241;43m*\u001b[39;49m\u001b[43margs\u001b[49m\u001b[43m,\u001b[49m\u001b[43m \u001b[49m\u001b[38;5;241;43m*\u001b[39;49m\u001b[38;5;241;43m*\u001b[39;49m\u001b[43mkwargs\u001b[49m\u001b[43m)\u001b[49m\n\u001b[1;32m    107\u001b[0m \u001b[38;5;66;03m# Merge span is parameter is set, but only if no explicit parent are passed\u001b[39;00m\n\u001b[1;32m    108\u001b[0m \u001b[38;5;28;01mif\u001b[39;00m merge_span \u001b[38;5;129;01mand\u001b[39;00m \u001b[38;5;129;01mnot\u001b[39;00m passed_in_parent:\n",
      "File \u001b[0;32m~/repos/aml/.venv/lib/python3.10/site-packages/azure/ai/ml/_restclient/v2023_04_01_preview/operations/_jobs_operations.py:760\u001b[0m, in \u001b[0;36mJobsOperations.create_or_update\u001b[0;34m(self, resource_group_name, workspace_name, id, body, **kwargs)\u001b[0m\n\u001b[1;32m    758\u001b[0m     map_error(status_code\u001b[38;5;241m=\u001b[39mresponse\u001b[38;5;241m.\u001b[39mstatus_code, response\u001b[38;5;241m=\u001b[39mresponse, error_map\u001b[38;5;241m=\u001b[39merror_map)\n\u001b[1;32m    759\u001b[0m     error \u001b[38;5;241m=\u001b[39m \u001b[38;5;28mself\u001b[39m\u001b[38;5;241m.\u001b[39m_deserialize\u001b[38;5;241m.\u001b[39mfailsafe_deserialize(_models\u001b[38;5;241m.\u001b[39mErrorResponse, pipeline_response)\n\u001b[0;32m--> 760\u001b[0m     \u001b[38;5;28;01mraise\u001b[39;00m HttpResponseError(response\u001b[38;5;241m=\u001b[39mresponse, model\u001b[38;5;241m=\u001b[39merror, error_format\u001b[38;5;241m=\u001b[39mARMErrorFormat)\n\u001b[1;32m    762\u001b[0m \u001b[38;5;28;01mif\u001b[39;00m response\u001b[38;5;241m.\u001b[39mstatus_code \u001b[38;5;241m==\u001b[39m \u001b[38;5;241m200\u001b[39m:\n\u001b[1;32m    763\u001b[0m     deserialized \u001b[38;5;241m=\u001b[39m \u001b[38;5;28mself\u001b[39m\u001b[38;5;241m.\u001b[39m_deserialize(\u001b[38;5;124m'\u001b[39m\u001b[38;5;124mJobBase\u001b[39m\u001b[38;5;124m'\u001b[39m, pipeline_response)\n",
      "\u001b[0;31mHttpResponseError\u001b[0m: (UserError) Unable to create or update run boring_jewel_dfkm8z97tf : Bad Request.\nCode: UserError\nMessage: Unable to create or update run boring_jewel_dfkm8z97tf : Bad Request.\nAdditional Information:Type: ComponentName\nInfo: {\n    \"value\": \"managementfrontend\"\n}Type: Correlation\nInfo: {\n    \"value\": {\n        \"operation\": \"92db341351e1d860bc60030690f9010b\",\n        \"request\": \"a39a540914d60abd\"\n    }\n}Type: Environment\nInfo: {\n    \"value\": \"westeurope\"\n}Type: Location\nInfo: {\n    \"value\": \"westeurope\"\n}Type: Time\nInfo: {\n    \"value\": \"2025-01-06T10:04:38.8246202+00:00\"\n}Type: InnerError\nInfo: {\n    \"value\": {\n        \"code\": \"BadArgument\",\n        \"innerError\": {\n            \"code\": \"CreatRunBadRequest\",\n            \"innerError\": null\n        }\n    }\n}"
     ]
    }
   ],
   "source": [
    "ml_client.create_or_update(job)"
   ]
  },
  {
   "cell_type": "code",
   "execution_count": null,
   "metadata": {},
   "outputs": [],
   "source": []
  }
 ],
 "metadata": {
  "kernelspec": {
   "display_name": ".venv",
   "language": "python",
   "name": "python3"
  },
  "language_info": {
   "codemirror_mode": {
    "name": "ipython",
    "version": 3
   },
   "file_extension": ".py",
   "mimetype": "text/x-python",
   "name": "python",
   "nbconvert_exporter": "python",
   "pygments_lexer": "ipython3",
   "version": "3.10.12"
  }
 },
 "nbformat": 4,
 "nbformat_minor": 2
}
