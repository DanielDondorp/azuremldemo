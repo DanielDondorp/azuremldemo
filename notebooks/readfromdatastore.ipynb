{
 "cells": [
  {
   "cell_type": "code",
   "execution_count": 4,
   "metadata": {},
   "outputs": [
    {
     "name": "stderr",
     "output_type": "stream",
     "text": [
      "AzureCliCredential.get_token failed: ERROR: AADSTS70043: The refresh token has expired or is invalid due to sign-in frequency checks by conditional access. The token was issued on 2025-04-01T06:22:55.4629892Z and the maximum allowed lifetime for this request is 14400. Trace ID: 06009eb9-ecac-4f0d-ad3a-eae61dcb2300 Correlation ID: 2c8c1d48-f167-4736-80c8-80dc9bb7ca19 Timestamp: 2025-04-03 10:41:39Z\n",
      "Interactive authentication is needed. Please run:\n",
      "az login --scope https://management.azure.com/.default\n",
      "\n",
      "Found the config file in: /home/daniel/repos/aml_demo/config.json\n",
      "Overriding of current TracerProvider is not allowed\n",
      "Overriding of current LoggerProvider is not allowed\n",
      "Overriding of current MeterProvider is not allowed\n",
      "Attempting to instrument while already instrumented\n",
      "Attempting to instrument while already instrumented\n",
      "Attempting to instrument while already instrumented\n",
      "Attempting to instrument while already instrumented\n",
      "Attempting to instrument while already instrumented\n"
     ]
    }
   ],
   "source": [
    "import os\n",
    "\n",
    "# Handle to the workspace\n",
    "from azure.ai.ml import MLClient\n",
    "\n",
    "from azure.ai.ml.entities import Data\n",
    "from azure.ai.ml.constants import AssetTypes\n",
    "from azure.ai.ml import command, Input, Output\n",
    "from azure.ai.ml import dsl\n",
    "\n",
    "# Authentication package\n",
    "from azure.identity import DefaultAzureCredential, InteractiveBrowserCredential, AzureCliCredential\n",
    "\n",
    "# Maybe we need to access the storage account\n",
    "from azure.storage.blob import BlobServiceClient, ContainerClient, BlobClient\n",
    "\n",
    "try:\n",
    "    credential = AzureCliCredential()\n",
    "    # Check if given credential can get token successfully.\n",
    "    credential.get_token(\"https://management.azure.com/.default\")\n",
    "except Exception as ex:\n",
    "    # Fall back to InteractiveBrowserCredential in case DefaultAzureCredential not work\n",
    "    credential = InteractiveBrowserCredential()\n",
    "ml_client = MLClient.from_config(credential)\n"
   ]
  },
  {
   "cell_type": "code",
   "execution_count": 2,
   "metadata": {},
   "outputs": [],
   "source": [
    "os.mkdir(\"../components/readfromdatastore\")"
   ]
  },
  {
   "cell_type": "code",
   "execution_count": 5,
   "metadata": {},
   "outputs": [
    {
     "name": "stdout",
     "output_type": "stream",
     "text": [
      "Overwriting ../components/readfromdatastore/readfromdatastore.py\n"
     ]
    }
   ],
   "source": [
    "%%writefile ../components/readfromdatastore/readfromdatastore.py\n",
    "\n",
    "import os\n",
    "import argparse\n",
    "\n",
    "def main():\n",
    "    parser = argparse.ArgumentParser()\n",
    "    parser.add_argument(\"--input_path\", type=str, help=\"path to datastore\")\n",
    "\n",
    "    #list files in the path\n",
    "    args = parser.parse_args()\n",
    "    path = args.input_path\n",
    "    print(f\"Files in {path}:\")\n",
    "    for file in os.listdir(path):\n",
    "        print(file)\n",
    "    print(f\"Read from {path} successfully.\")\n",
    "    print(\"Read from datastore successfully.\")\n",
    "if __name__ == \"__main__\":\n",
    "    main()\n"
   ]
  },
  {
   "cell_type": "code",
   "execution_count": 49,
   "metadata": {},
   "outputs": [],
   "source": [
    "inputs = {\"input_path\": Input(type=\"uri_folder\", mode = \"ro_mount\")}"
   ]
  },
  {
   "cell_type": "code",
   "execution_count": 50,
   "metadata": {},
   "outputs": [],
   "source": [
    "read_command = command(\n",
    "    name=\"readfromdatastore\",\n",
    "    display_name=\"readfromdatastore\",\n",
    "    description=\"Read from datastore\",\n",
    "    inputs=inputs,\n",
    "    outputs={},\n",
    "    code=\"../components/readfromdatastore\",\n",
    "    command=\"python readfromdatastore.py --input_path ${{inputs.input_path}}\",\n",
    "    environment=\"yolofromdocker:1\",\n",
    "    compute=\"defaultcompute\",\n",
    "    experiment_name=\"readfromdatastore\",\n",
    ")"
   ]
  },
  {
   "cell_type": "code",
   "execution_count": 51,
   "metadata": {},
   "outputs": [],
   "source": [
    "@dsl.pipeline(\n",
    "    name=\"readfromdatastore\",\n",
    "    description=\"Read from datastore\",\n",
    ")\n",
    "def readfromdatastore(input_path: str): \n",
    "    read_command_job = read_command(input_path=input_path)\n",
    "    return read_command_job"
   ]
  },
  {
   "cell_type": "code",
   "execution_count": 60,
   "metadata": {},
   "outputs": [
    {
     "data": {
      "text/html": [
       "<table style=\"width:100%\"><tr><th>Experiment</th><th>Name</th><th>Type</th><th>Status</th><th>Details Page</th></tr><tr><td>notebooks</td><td>wheat_yuca_3sqpn8v0lw</td><td>pipeline</td><td>NotStarted</td><td><a href=\"https://ml.azure.com/runs/wheat_yuca_3sqpn8v0lw?wsid=/subscriptions/cad4de40-836d-424a-bdd6-3296c5c25179/resourcegroups/rgdaniel/workspaces/amldaniel&amp;tid=8b87af7d-8647-4dc7-8df4-5f69a2011bb5\" target=\"_blank\" rel=\"noopener\">Link to Azure Machine Learning studio</a></td></tr></table>"
      ],
      "text/plain": [
       "PipelineJob({'inputs': {'input_path': <azure.ai.ml.entities._job.pipeline._io.base.PipelineInput object at 0x7f1a9366b520>}, 'outputs': {}, 'jobs': {}, 'component': PipelineComponent({'latest_version': None, 'intellectual_property': None, 'auto_increment_version': False, 'source': 'REMOTE.WORKSPACE.JOB', 'is_anonymous': True, 'auto_delete_setting': None, 'name': 'azureml_anonymous', 'description': 'Read from datastore', 'tags': {}, 'properties': {}, 'print_as_yaml': False, 'id': None, 'Resource__source_path': None, 'base_path': '/home/daniel/repos/aml_demo/notebooks', 'creation_context': None, 'serialize': <msrest.serialization.Serializer object at 0x7f1a936688b0>, 'version': '1', 'schema': None, 'type': 'pipeline', 'display_name': 'readfromdatastore', 'is_deterministic': None, 'inputs': {'input_path': {}}, 'outputs': {}, 'yaml_str': None, 'other_parameter': {}, 'jobs': {'read_command_job': Command({'parameters': {}, 'init': False, 'name': 'read_command_job', 'type': 'command', 'status': None, 'log_files': None, 'description': None, 'tags': {}, 'properties': {}, 'print_as_yaml': False, 'id': None, 'Resource__source_path': '', 'base_path': '/home/daniel/repos/aml_demo/notebooks', 'creation_context': None, 'serialize': <msrest.serialization.Serializer object at 0x7f1a93668430>, 'allowed_keys': {}, 'key_restriction': False, 'logger': <Logger attr_dict (WARNING)>, 'display_name': None, 'experiment_name': None, 'compute': 'defaultcompute', 'services': None, 'comment': None, 'job_inputs': {'input_path': '${{parent.inputs.input_path}}'}, 'job_outputs': {}, 'inputs': {'input_path': <azure.ai.ml.entities._job.pipeline._io.base.NodeInput object at 0x7f1a9366a4a0>}, 'outputs': {}, 'component': 'azureml_anonymous:39b48e7a-c929-485b-a515-5699872a7141', 'referenced_control_flow_node_instance_id': None, 'kwargs': {'services': None}, 'instance_id': '3654f769-588e-4154-97eb-c157aa3e7cab', 'source': 'BUILDER', 'validate_required_input_not_provided': True, 'limits': None, 'identity': None, 'distribution': None, 'environment_variables': {}, 'environment': None, 'resources': None, 'queue_settings': None, 'parent_job_name': None, 'swept': False})}, 'job_types': {'command': 1}, 'job_sources': {'BUILDER': 1}, 'source_job_id': None}), 'type': 'pipeline', 'status': 'NotStarted', 'log_files': None, 'name': 'wheat_yuca_3sqpn8v0lw', 'description': 'Read from datastore', 'tags': {}, 'properties': {}, 'print_as_yaml': False, 'id': '/subscriptions/cad4de40-836d-424a-bdd6-3296c5c25179/resourceGroups/rgdaniel/providers/Microsoft.MachineLearningServices/workspaces/amldaniel/jobs/wheat_yuca_3sqpn8v0lw', 'Resource__source_path': '', 'base_path': '/home/daniel/repos/aml_demo/notebooks', 'creation_context': <azure.ai.ml.entities._system_data.SystemData object at 0x7f1a9366a800>, 'serialize': <msrest.serialization.Serializer object at 0x7f1a93669b70>, 'display_name': 'readfromdatastore', 'experiment_name': 'notebooks', 'compute': None, 'services': {'Tracking': {'endpoint': 'azureml://westeurope.api.azureml.ms/mlflow/v1.0/subscriptions/cad4de40-836d-424a-bdd6-3296c5c25179/resourceGroups/rgdaniel/providers/Microsoft.MachineLearningServices/workspaces/amldaniel?', 'type': 'Tracking'}, 'Studio': {'endpoint': 'https://ml.azure.com/runs/wheat_yuca_3sqpn8v0lw?wsid=/subscriptions/cad4de40-836d-424a-bdd6-3296c5c25179/resourcegroups/rgdaniel/workspaces/amldaniel&tid=8b87af7d-8647-4dc7-8df4-5f69a2011bb5', 'type': 'Studio'}}, 'settings': {}, 'identity': None, 'default_code': None, 'default_environment': None})"
      ]
     },
     "execution_count": 60,
     "metadata": {},
     "output_type": "execute_result"
    }
   ],
   "source": [
    "ml_client.jobs.create_or_update(readfromdatastore(input_path=Input(type=\"uri_folder\", mode = \"ro_mount\", path=\"azureml://datastores/container_raw/paths/coco128\")))"
   ]
  },
  {
   "cell_type": "code",
   "execution_count": null,
   "metadata": {},
   "outputs": [
    {
     "ename": "AttributeError",
     "evalue": "'AzureBlobDatastore' object has no attribute 'list_paths'",
     "output_type": "error",
     "traceback": [
      "\u001b[0;31m---------------------------------------------------------------------------\u001b[0m",
      "\u001b[0;31mAttributeError\u001b[0m                            Traceback (most recent call last)",
      "Cell \u001b[0;32mIn[57], line 1\u001b[0m\n\u001b[0;32m----> 1\u001b[0m \u001b[43mml_client\u001b[49m\u001b[38;5;241;43m.\u001b[39;49m\u001b[43mdatastores\u001b[49m\u001b[38;5;241;43m.\u001b[39;49m\u001b[43mget\u001b[49m\u001b[43m(\u001b[49m\u001b[38;5;124;43m\"\u001b[39;49m\u001b[38;5;124;43mcontainer_raw\u001b[39;49m\u001b[38;5;124;43m\"\u001b[39;49m\u001b[43m)\u001b[49m\u001b[38;5;241;43m.\u001b[39;49m\u001b[43mlist_paths\u001b[49m(\u001b[38;5;124m\"\u001b[39m\u001b[38;5;124mcoco128\u001b[39m\u001b[38;5;124m\"\u001b[39m, \u001b[38;5;241m1000\u001b[39m)\n",
      "\u001b[0;31mAttributeError\u001b[0m: 'AzureBlobDatastore' object has no attribute 'list_paths'"
     ]
    }
   ],
   "source": [
    "ml_client.datastores.get(\"container_raw\")"
   ]
  },
  {
   "cell_type": "code",
   "execution_count": null,
   "metadata": {},
   "outputs": [],
   "source": []
  }
 ],
 "metadata": {
  "kernelspec": {
   "display_name": ".venv",
   "language": "python",
   "name": "python3"
  },
  "language_info": {
   "codemirror_mode": {
    "name": "ipython",
    "version": 3
   },
   "file_extension": ".py",
   "mimetype": "text/x-python",
   "name": "python",
   "nbconvert_exporter": "python",
   "pygments_lexer": "ipython3",
   "version": "3.10.12"
  }
 },
 "nbformat": 4,
 "nbformat_minor": 2
}
