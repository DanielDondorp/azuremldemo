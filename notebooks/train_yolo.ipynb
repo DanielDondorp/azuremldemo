{
 "cells": [
  {
   "cell_type": "code",
   "execution_count": 1,
   "metadata": {},
   "outputs": [
    {
     "name": "stderr",
     "output_type": "stream",
     "text": [
      "Found the config file in: /home/daniel/repos/aml_demo/config.json\n"
     ]
    }
   ],
   "source": [
    "from azure.ai.ml import MLClient\n",
    "from azure.identity import DefaultAzureCredential\n",
    "from azure.ai.ml import command, Input, Output\n",
    "from azure.ai.ml import dsl\n",
    "\n",
    "# Let's login to configure your workspace and resource group.\n",
    "credential = DefaultAzureCredential()\n",
    "\n",
    "# Get a handle to the workspace. You can find the info on the workspace tab on ml.azure.com\n",
    "ml_client = MLClient.from_config(credential=credential)"
   ]
  },
  {
   "cell_type": "code",
   "execution_count": 32,
   "metadata": {},
   "outputs": [
    {
     "ename": "FileExistsError",
     "evalue": "[Errno 17] File exists: '../components/train_yolo_from_notebook'",
     "output_type": "error",
     "traceback": [
      "\u001b[0;31m---------------------------------------------------------------------------\u001b[0m",
      "\u001b[0;31mFileExistsError\u001b[0m                           Traceback (most recent call last)",
      "Cell \u001b[0;32mIn[32], line 2\u001b[0m\n\u001b[1;32m      1\u001b[0m \u001b[38;5;28;01mimport\u001b[39;00m\u001b[38;5;250m \u001b[39m\u001b[38;5;21;01mos\u001b[39;00m\n\u001b[0;32m----> 2\u001b[0m \u001b[43mos\u001b[49m\u001b[38;5;241;43m.\u001b[39;49m\u001b[43mmkdir\u001b[49m\u001b[43m(\u001b[49m\u001b[38;5;124;43m\"\u001b[39;49m\u001b[38;5;124;43m../components/train_yolo_from_notebook\u001b[39;49m\u001b[38;5;124;43m\"\u001b[39;49m\u001b[43m)\u001b[49m\n",
      "\u001b[0;31mFileExistsError\u001b[0m: [Errno 17] File exists: '../components/train_yolo_from_notebook'"
     ]
    }
   ],
   "source": [
    "import os\n",
    "os.mkdir(\"../components/train_yolo_from_notebook\")"
   ]
  },
  {
   "cell_type": "code",
   "execution_count": null,
   "metadata": {},
   "outputs": [
    {
     "name": "stdout",
     "output_type": "stream",
     "text": [
      "Writing ../components/train_yolo_from_notebook/train_yolo_model.py\n"
     ]
    }
   ],
   "source": [
    "%%writefile ../components/train_yolo_from_notebook/train_yolo_model.py\n",
    "\n",
    "import argparse\n",
    "import os\n",
    "from ultralytics import YOLO\n",
    "import mlflow\n",
    "import glob\n",
    "import subprocess\n",
    "import re\n",
    "\n",
    "def main():\n",
    "    parser = argparse.ArgumentParser()\n",
    "    parser.add_argument(\"--base_model\", type=str, default=\"yolo11n.pt\", help=\"Model to train\")\n",
    "    parser.add_argument(\"--data\", type=str, default=\"../data/coco128.yaml\", help=\"Data config file\")\n",
    "    parser.add_argument(\"--epochs\", type=int, default=3, help=\"Number of epochs to train\")\n",
    "    parser.add_argument(\"--output_model\", type=str, default=\"./outputs/model\", help=\"Output model path\")\n",
    "    args = parser.parse_args()\n",
    "\n",
    "    print(\"Model output path: \", args.output_model)\n",
    "    # Create the output directory if it doesn't exist\n",
    "    if not os.path.exists(args.output_model):\n",
    "        os.makedirs(args.output_model)\n",
    "        print(\"Output directory created:\", args.output_model)\n",
    "    #get the yaml file from the data folder:\n",
    "    files_in_dir = os.listdir(args.data)\n",
    "    print(\"Files in directory:\", files_in_dir)\n",
    "    yaml = glob.glob(os.path.join(args.data, \"*.yaml\"))\n",
    "    print(\"YAML files:\", yaml)\n",
    "    #get the first yaml file\n",
    "    yaml = yaml[0]\n",
    "    print(\"YAML file:\", yaml)\n",
    "    \n",
    "    #in the yaml file, replace the whole line after 'path: ' with the the path in 'args.data'\n",
    "    with open(yaml, \"r+\") as f:\n",
    "        data = f.read()\n",
    "        #in data, find the line that starts with 'path: ' and replace it with 'path: args.data'\n",
    "        data = re.sub(r'path: .*', f'path: {args.data}', data)\n",
    "        #write the data back to the file\n",
    "        f.write(data)\n",
    "    \n",
    "    # Train the model\n",
    "    with mlflow.start_run() as run:\n",
    "        mlflow.log_param(\"base_model\", args.base_model)\n",
    "        mlflow.log_param(\"data\", yaml)\n",
    "        mlflow.log_param(\"epochs\", args.epochs)\n",
    "        mlflow.log_param(\"output_model\", args.output_model)\n",
    "\n",
    "        # Train the model\n",
    "        model = YOLO(args.base_model)\n",
    "        results = model.train(data=yaml, epochs=args.epochs, project=args.output_model, name=\"model\")\n",
    "        # model.save(f\"{args.output_model}/yolo_coco128.pt\")\n",
    "        # print(\"Model saved to\", args.output_model)\n",
    "    \n",
    "if __name__ == \"__main__\":\n",
    "    main()\n",
    "\n"
   ]
  },
  {
   "cell_type": "code",
   "execution_count": 34,
   "metadata": {},
   "outputs": [],
   "source": [
    "path=\"azureml://datastores/container_raw/paths/coco128\""
   ]
  },
  {
   "cell_type": "code",
   "execution_count": null,
   "metadata": {},
   "outputs": [],
   "source": [
    "train_yolo_component = command(\n",
    "    name=\"train_yolo_model\",\n",
    "    description=\"Train a YOLO model\",\n",
    "    environment=\"yolofromdocker:2\",\n",
    "    inputs={\n",
    "        \"base_model\": Input(type=\"string\", default=\"yolo11n.pt\"),\n",
    "        \"model_name\": Input(type=\"string\", default=\"yolofromnotebook\"),\n",
    "        \"data\": Input(type=\"uri_folder\"),\n",
    "        \"epochs\": Input(type=\"integer\", default=3),\n",
    "    },\n",
    "    outputs={\n",
    "            \"output_model\": Output(\n",
    "                type=\"custom_model\",\n",
    "                name=\"yolofromnotebookmodel\",\n",
    "                path=f\"azureml://datastores/container_processed/paths/trained_model_from_notebook/yolofromnotebook\")},\n",
    "    code = \"../components/train_yolo_from_notebook\",\n",
    "    command=\"python train_yolo_model.py --base_model ${{inputs.base_model}} --data ${{inputs.data}} --epochs ${{inputs.epochs}} --output_model ${{outputs.output_model}}\",\n",
    ")"
   ]
  },
  {
   "cell_type": "code",
   "execution_count": 42,
   "metadata": {},
   "outputs": [],
   "source": [
    "@dsl.pipeline(compute = \"bigcompute\", description=\"Train a YOLO model\", experiment_name=\"train_yolo_model\")\n",
    "def train_yolo_model_pipeline(base_model: str, data: Input, epochs: int):\n",
    "    # Create a command job to train the YOLO model\n",
    "    train_yolo_job = train_yolo_component(\n",
    "        base_model=base_model,\n",
    "        data=data,\n",
    "        epochs=epochs,\n",
    "    )\n",
    "\n",
    "    return {\"output_model\": train_yolo_job.outputs.output_model}"
   ]
  },
  {
   "cell_type": "code",
   "execution_count": 43,
   "metadata": {},
   "outputs": [],
   "source": [
    "train_yolo_model_pipeline_instance = train_yolo_model_pipeline(\n",
    "    base_model=\"yolo11n.pt\",\n",
    "    data=Input(type=\"uri_folder\", mode = \"rw_mount\", path=\"azureml://datastores/container_raw/paths/coco128\"),\n",
    "    epochs=1,\n",
    ")"
   ]
  },
  {
   "cell_type": "code",
   "execution_count": 44,
   "metadata": {},
   "outputs": [
    {
     "name": "stderr",
     "output_type": "stream",
     "text": [
      "pathOnCompute is not a known attribute of class <class 'azure.ai.ml._restclient.v2023_04_01_preview.models._models_py3.CustomModelJobOutput'> and will be ignored\n"
     ]
    },
    {
     "data": {
      "text/html": [
       "<table style=\"width:100%\"><tr><th>Experiment</th><th>Name</th><th>Type</th><th>Status</th><th>Details Page</th></tr><tr><td>train_yolo_model</td><td>icy_sprout_mq338t7g4p</td><td>pipeline</td><td>NotStarted</td><td><a href=\"https://ml.azure.com/runs/icy_sprout_mq338t7g4p?wsid=/subscriptions/cad4de40-836d-424a-bdd6-3296c5c25179/resourcegroups/rgdaniel/workspaces/amldaniel&amp;tid=8b87af7d-8647-4dc7-8df4-5f69a2011bb5\" target=\"_blank\" rel=\"noopener\">Link to Azure Machine Learning studio</a></td></tr></table>"
      ],
      "text/plain": [
       "PipelineJob({'inputs': {'base_model': <azure.ai.ml.entities._job.pipeline._io.base.PipelineInput object at 0x7fbaad867010>, 'data': <azure.ai.ml.entities._job.pipeline._io.base.PipelineInput object at 0x7fbaad867c40>, 'epochs': <azure.ai.ml.entities._job.pipeline._io.base.PipelineInput object at 0x7fbaad867970>}, 'outputs': {'output_model': <azure.ai.ml.entities._job.pipeline._io.base.PipelineOutput object at 0x7fbaad8676a0>}, 'jobs': {}, 'component': PipelineComponent({'latest_version': None, 'intellectual_property': None, 'auto_increment_version': False, 'source': 'REMOTE.WORKSPACE.JOB', 'is_anonymous': True, 'auto_delete_setting': None, 'name': 'azureml_anonymous', 'description': 'Train a YOLO model', 'tags': {}, 'properties': {}, 'print_as_yaml': False, 'id': None, 'Resource__source_path': None, 'base_path': '/home/daniel/repos/aml_demo/notebooks', 'creation_context': None, 'serialize': <msrest.serialization.Serializer object at 0x7fbaad8b76d0>, 'version': '1', 'schema': None, 'type': 'pipeline', 'display_name': 'train_yolo_model_pipeline', 'is_deterministic': None, 'inputs': {'base_model': {}, 'data': {}, 'epochs': {}}, 'outputs': {'output_model': {}}, 'yaml_str': None, 'other_parameter': {}, 'jobs': {'train_yolo_job': Command({'parameters': {}, 'init': False, 'name': 'train_yolo_job', 'type': 'command', 'status': None, 'log_files': None, 'description': None, 'tags': {}, 'properties': {}, 'print_as_yaml': False, 'id': None, 'Resource__source_path': '', 'base_path': '/home/daniel/repos/aml_demo/notebooks', 'creation_context': None, 'serialize': <msrest.serialization.Serializer object at 0x7fbaad54c3d0>, 'allowed_keys': {}, 'key_restriction': False, 'logger': <Logger attr_dict (WARNING)>, 'display_name': None, 'experiment_name': None, 'compute': None, 'services': None, 'comment': None, 'job_inputs': {'base_model': '${{parent.inputs.base_model}}', 'data': '${{parent.inputs.data}}', 'epochs': '${{parent.inputs.epochs}}'}, 'job_outputs': {'output_model': '${{parent.outputs.output_model}}'}, 'inputs': {'base_model': <azure.ai.ml.entities._job.pipeline._io.base.NodeInput object at 0x7fbaad54c430>, 'data': <azure.ai.ml.entities._job.pipeline._io.base.NodeInput object at 0x7fbaad8b4a30>, 'epochs': <azure.ai.ml.entities._job.pipeline._io.base.NodeInput object at 0x7fbaad8b7b20>}, 'outputs': {'output_model': <azure.ai.ml.entities._job.pipeline._io.base.NodeOutput object at 0x7fbaad54c400>}, 'component': 'azureml_anonymous:4dbb4e32-45ea-4bb5-bdf0-175c3ae2c594', 'referenced_control_flow_node_instance_id': None, 'kwargs': {'services': None}, 'instance_id': 'ad5befc3-2cad-4ba3-ac5d-299f6e7ef73a', 'source': 'BUILDER', 'validate_required_input_not_provided': True, 'limits': None, 'identity': None, 'distribution': None, 'environment_variables': {}, 'environment': None, 'resources': None, 'queue_settings': None, 'parent_job_name': None, 'swept': False})}, 'job_types': {'command': 1}, 'job_sources': {'BUILDER': 1}, 'source_job_id': None}), 'type': 'pipeline', 'status': 'NotStarted', 'log_files': None, 'name': 'icy_sprout_mq338t7g4p', 'description': 'Train a YOLO model', 'tags': {}, 'properties': {}, 'print_as_yaml': False, 'id': '/subscriptions/cad4de40-836d-424a-bdd6-3296c5c25179/resourceGroups/rgdaniel/providers/Microsoft.MachineLearningServices/workspaces/amldaniel/jobs/icy_sprout_mq338t7g4p', 'Resource__source_path': '', 'base_path': '/home/daniel/repos/aml_demo/notebooks', 'creation_context': <azure.ai.ml.entities._system_data.SystemData object at 0x7fbaad8b79a0>, 'serialize': <msrest.serialization.Serializer object at 0x7fbaad867b20>, 'display_name': 'train_yolo_model_pipeline', 'experiment_name': 'train_yolo_model', 'compute': 'bigcompute', 'services': {'Tracking': {'endpoint': 'azureml://westeurope.api.azureml.ms/mlflow/v1.0/subscriptions/cad4de40-836d-424a-bdd6-3296c5c25179/resourceGroups/rgdaniel/providers/Microsoft.MachineLearningServices/workspaces/amldaniel?', 'type': 'Tracking'}, 'Studio': {'endpoint': 'https://ml.azure.com/runs/icy_sprout_mq338t7g4p?wsid=/subscriptions/cad4de40-836d-424a-bdd6-3296c5c25179/resourcegroups/rgdaniel/workspaces/amldaniel&tid=8b87af7d-8647-4dc7-8df4-5f69a2011bb5', 'type': 'Studio'}}, 'settings': {}, 'identity': None, 'default_code': None, 'default_environment': None})"
      ]
     },
     "execution_count": 44,
     "metadata": {},
     "output_type": "execute_result"
    }
   ],
   "source": [
    "ml_client.jobs.create_or_update(train_yolo_model_pipeline_instance)"
   ]
  },
  {
   "cell_type": "code",
   "execution_count": 179,
   "metadata": {},
   "outputs": [
    {
     "name": "stdout",
     "output_type": "stream",
     "text": [
      "azureml_cd0dbbbc-0ec0-47f2-9dd4-a9165cd62756_output_output_model None None\n",
      "azureml_bc1cebe5-21a3-4e3f-8ccb-3e69fb52aebc_output_output_model None None\n",
      "azureml_cdac7285-f9ea-4949-9564-c6823ba6d7aa_output_output_model None None\n",
      "azureml_648b169a-43aa-435b-af0a-b13748980cf1_output_output_model None None\n",
      "azureml_250e0f8b-fb29-4587-a18c-2c93cf793d39_output_output_model None None\n",
      "azureml_944fe082-4ccd-4ce5-a847-a385bf0d3a69_output_output_model None None\n",
      "azureml_cffa05b3-9256-4db3-a269-e21da146cb6a_output_output_model None None\n",
      "azureml_78a4f16b-e4fc-4295-a48c-c0367be1ee8e_output_output_model None None\n",
      "azureml_bc4192c9-c501-40fb-8dac-3665d4754cf1_output_output_model None None\n",
      "yolomodel_small None None\n",
      "yolomodel None None\n",
      "catsanddogsmodel None None\n",
      "sam2model None None\n",
      "azureml_22eac4ff-e422-4116-b935-d35249f50370_output_output_model None None\n",
      "azureml_8699aad9-81bf-4705-a24a-946fbbbb4090_output_output_model None None\n",
      "azureml_200204b1-caf8-4918-8372-7bd93df0bb41_output_output_model None None\n",
      "azureml_ff7dbdcc-1296-4c47-b295-a2369639c0ce_output_output_model None None\n",
      "azureml_ca5c17ef-0d7f-47b3-b446-ee9d6e08c6c1_output_output_model None None\n",
      "azureml_7ef4caed-51c9-4200-a564-d9507b2a844d_output_output_model None None\n",
      "azureml_bf3fd111-4dd5-486c-94ff-321f08ebdd53_output_output_model None None\n",
      "azureml_9d710aa7-5756-4cdc-9b9a-33071d90830e_output_output_model None None\n",
      "azureml_e50c6eac-fb1f-4f8b-ac44-cc91c796fd3a_output_output_model None None\n",
      "azureml_4ae7e59e-4843-4108-b6d7-74193e55e084_output_output_model None None\n",
      "azureml_3bd9030a-c975-4602-8607-d3eac99abab5_output_output_model None None\n",
      "azureml_b1bbaf2b-47fb-4b88-8d67-968241fc9008_output_model None None\n",
      "azureml_0a24e6cf-7d61-4f0e-bbf7-138e73da32d1_output_model None None\n",
      "azureml_6a08b6e3-e41d-4202-b71b-b12e1eae2a8a_output_model None None\n",
      "azureml_e3aeaeb1-1176-47c6-a70b-2812db9ab6f5_output_output_model None None\n",
      "azureml_9d945bbe-9cfd-4d87-b158-465964c7cd6a_output_output_model None None\n",
      "azureml_84e3fdae-d761-4c74-a036-107c1edaaf61_output_model None None\n",
      "azureml_7a328cd1-eb16-4a3c-9a0c-74ad6b861e99_output_model None None\n",
      "azureml_3933188d-52bb-4960-852a-d5fd0823ecc8_output_model None None\n",
      "azureml_4ebe4f9e-92e6-4955-8b29-fd4389af6cf3_output_model None None\n",
      "azureml_bbdb8eb3-8848-4773-8f3c-7036f95c5ff6_output_model None None\n",
      "azureml_6e1fa8bf-66a8-4850-a707-5553d65eea84_output_output_model None None\n",
      "azureml_56c5d653-d9d7-45a8-a8b1-aaad0db8e2b2_output_model None None\n",
      "azureml_0cb5b2a0-207f-4d28-afe1-0790ae3ef00c_output_model None None\n",
      "azureml_17618e23-6164-45d8-88f6-a96eef5b5857_output_output_model None None\n"
     ]
    }
   ],
   "source": [
    "all_models = ml_client.models.list()\n",
    "for model in all_models:\n",
    "    print(model.name, model.version, model.description)"
   ]
  },
  {
   "cell_type": "code",
   "execution_count": null,
   "metadata": {},
   "outputs": [],
   "source": []
  }
 ],
 "metadata": {
  "kernelspec": {
   "display_name": ".venv",
   "language": "python",
   "name": "python3"
  },
  "language_info": {
   "codemirror_mode": {
    "name": "ipython",
    "version": 3
   },
   "file_extension": ".py",
   "mimetype": "text/x-python",
   "name": "python",
   "nbconvert_exporter": "python",
   "pygments_lexer": "ipython3",
   "version": "3.10.12"
  }
 },
 "nbformat": 4,
 "nbformat_minor": 2
}
