{
 "cells": [
  {
   "cell_type": "code",
   "execution_count": 63,
   "metadata": {},
   "outputs": [
    {
     "name": "stderr",
     "output_type": "stream",
     "text": [
      "AzureCliCredential.get_token failed: ERROR: AADSTS70043: The refresh token has expired or is invalid due to sign-in frequency checks by conditional access. The token was issued on 2025-04-01T06:22:55.4629892Z and the maximum allowed lifetime for this request is 14400. Trace ID: 45106e2e-d82f-4110-82b1-0205d53c1700 Correlation ID: 53c5813f-6bd2-4ee0-be52-146ae5291245 Timestamp: 2025-04-03 06:57:52Z\n",
      "Interactive authentication is needed. Please run:\n",
      "az login --scope https://management.azure.com/.default\n",
      "\n"
     ]
    }
   ],
   "source": [
    "# Handle to the workspace\n",
    "from azure.ai.ml import MLClient\n",
    "\n",
    "# Authentication package\n",
    "from azure.identity import DefaultAzureCredential, InteractiveBrowserCredential, AzureCliCredential\n",
    "\n",
    "try:\n",
    "    credential = AzureCliCredential()\n",
    "    # Check if given credential can get token successfully.\n",
    "    credential.get_token(\"https://management.azure.com/.default\")\n",
    "except Exception as ex:\n",
    "    # Fall back to InteractiveBrowserCredential in case DefaultAzureCredential not work\n",
    "    credential = InteractiveBrowserCredential()"
   ]
  },
  {
   "cell_type": "code",
   "execution_count": 64,
   "metadata": {},
   "outputs": [
    {
     "name": "stderr",
     "output_type": "stream",
     "text": [
      "Found the config file in: /home/daniel/repos/aml_demo/config.json\n"
     ]
    },
    {
     "name": "stderr",
     "output_type": "stream",
     "text": [
      "Overriding of current TracerProvider is not allowed\n",
      "Overriding of current LoggerProvider is not allowed\n",
      "Overriding of current MeterProvider is not allowed\n",
      "Attempting to instrument while already instrumented\n",
      "Attempting to instrument while already instrumented\n",
      "Attempting to instrument while already instrumented\n",
      "Attempting to instrument while already instrumented\n",
      "Attempting to instrument while already instrumented\n"
     ]
    }
   ],
   "source": [
    "ml_client = MLClient.from_config(credential)"
   ]
  },
  {
   "cell_type": "code",
   "execution_count": 65,
   "metadata": {},
   "outputs": [],
   "source": [
    "import os\n",
    "os.makedirs(\"../components/registeryolomodel\", exist_ok=True)"
   ]
  },
  {
   "cell_type": "code",
   "execution_count": 66,
   "metadata": {},
   "outputs": [
    {
     "name": "stdout",
     "output_type": "stream",
     "text": [
      "Overwriting ../components/registeryolomodel/register_yolo_model.py\n"
     ]
    }
   ],
   "source": [
    "%%writefile ../components/registeryolomodel/register_yolo_model.py\n",
    "\n",
    "import os\n",
    "import argparse\n",
    "import ultralytics\n",
    "\n",
    "def main():\n",
    "    parser = argparse.ArgumentParser(description=\"Register a fresh ultralytics model\")\n",
    "    parser.add_argument(\n",
    "        \"--model_type\",\n",
    "        type=str,\n",
    "        default=\"yolo11n.pt\",\n",
    "        help=\"The model to register. Default is yolo11n.pt\",\n",
    "    )\n",
    "    # parser.add_argument(\"--model_name\", type=str, default = f\"{parser.parse_args().model}_test\", help=\"The name of the model to register\")\n",
    "\n",
    "\n",
    "    model = ultralytics.YOLO(parser.parse_args().model_type)\n",
    "    # model_name = parser.parse_args().model_name\n",
    "    print(f\"Model {parser.parse_args().model_type} loaded successfully\")\n",
    "    # save the model to a local directory\n",
    "    os.mkdir(\"./model\")\n",
    "    model.save(\"./model/testmodel.pt\")\n",
    "    print(\"Model saved successfully\")\n",
    "    print(os.listdir(\"./model\"))\n",
    "if __name__ == \"__main__\":\n",
    "    main()\n",
    "\n"
   ]
  },
  {
   "cell_type": "code",
   "execution_count": 67,
   "metadata": {},
   "outputs": [],
   "source": [
    "from azure.ai.ml import command, Input, Output\n",
    "from azure.ai.ml.constants import AssetTypes\n",
    "\n",
    "inputs = {\"model_type\": Input(type=\"string\")}\n",
    "outputs = {\"model\": Output(type=AssetTypes.CUSTOM_MODEL, description=\"The name of the model to register\")}\n",
    "\n",
    "register_yolo_model = command(\n",
    "    name = \"register_yolo_model\",\n",
    "    code=\"../components/registeryolomodel\",\n",
    "    inputs=inputs,\n",
    "    outputs=outputs,\n",
    "    command=\"python register_yolo_model.py --model_type ${{inputs.model_type}}\",\n",
    "    environment=\"yolofromdocker:1\",\n",
    "    compute=\"defaultcompute\" )\n",
    "\n",
    "job = register_yolo_model()"
   ]
  },
  {
   "cell_type": "code",
   "execution_count": 60,
   "metadata": {},
   "outputs": [],
   "source": [
    "from azure.ai.ml import dsl"
   ]
  },
  {
   "cell_type": "code",
   "execution_count": 68,
   "metadata": {},
   "outputs": [],
   "source": [
    "@dsl.pipeline(description=\"Yolo Registration Pipeline\", name=\"yolo_registration_pipeline\")\n",
    "def yolo_registration_pipeline(\n",
    "    model_type: str = \"yolo11n.pt\",\n",
    "):\n",
    "    register_yolo_model(\n",
    "        model_type=model_type,\n",
    "    )"
   ]
  },
  {
   "cell_type": "code",
   "execution_count": 62,
   "metadata": {},
   "outputs": [
    {
     "name": "stderr",
     "output_type": "stream",
     "text": [
      "Uploading registeryolomodel (0.0 MBs): 100%|██████████| 852/852 [00:00<00:00, 22837.52it/s]\n",
      "\n",
      "\n",
      "pathOnCompute is not a known attribute of class <class 'azure.ai.ml._restclient.v2023_04_01_preview.models._models_py3.CustomModelJobOutput'> and will be ignored\n"
     ]
    },
    {
     "data": {
      "text/html": [
       "<table style=\"width:100%\"><tr><th>Experiment</th><th>Name</th><th>Type</th><th>Status</th><th>Details Page</th></tr><tr><td>yolo_registration_experiment</td><td>purple_fox_gb2ss0z0pp</td><td>pipeline</td><td>NotStarted</td><td><a href=\"https://ml.azure.com/runs/purple_fox_gb2ss0z0pp?wsid=/subscriptions/cad4de40-836d-424a-bdd6-3296c5c25179/resourcegroups/rgdaniel/workspaces/amldaniel&amp;tid=8b87af7d-8647-4dc7-8df4-5f69a2011bb5\" target=\"_blank\" rel=\"noopener\">Link to Azure Machine Learning studio</a></td></tr></table>"
      ],
      "text/plain": [
       "PipelineJob({'inputs': {'model_type': <azure.ai.ml.entities._job.pipeline._io.base.PipelineInput object at 0x7fc19fd52d70>}, 'outputs': {}, 'jobs': {}, 'component': PipelineComponent({'latest_version': None, 'intellectual_property': None, 'auto_increment_version': False, 'source': 'REMOTE.WORKSPACE.JOB', 'is_anonymous': True, 'auto_delete_setting': None, 'name': 'azureml_anonymous', 'description': 'Yolo Registration Pipeline', 'tags': {}, 'properties': {}, 'print_as_yaml': False, 'id': None, 'Resource__source_path': None, 'base_path': '/home/daniel/repos/aml_demo/notebooks', 'creation_context': None, 'serialize': <msrest.serialization.Serializer object at 0x7fc19fd522f0>, 'version': '1', 'schema': None, 'type': 'pipeline', 'display_name': 'yolo_registration_pipeline', 'is_deterministic': None, 'inputs': {'model_type': {}}, 'outputs': {}, 'yaml_str': None, 'other_parameter': {}, 'jobs': {'register_yolo_model': Command({'parameters': {}, 'init': False, 'name': 'register_yolo_model', 'type': 'command', 'status': None, 'log_files': None, 'description': None, 'tags': {}, 'properties': {}, 'print_as_yaml': False, 'id': None, 'Resource__source_path': '', 'base_path': '/home/daniel/repos/aml_demo/notebooks', 'creation_context': None, 'serialize': <msrest.serialization.Serializer object at 0x7fc19fd50b50>, 'allowed_keys': {}, 'key_restriction': False, 'logger': <Logger attr_dict (WARNING)>, 'display_name': None, 'experiment_name': None, 'compute': 'defaultcompute', 'services': None, 'comment': None, 'job_inputs': {'model_type': '${{parent.inputs.model_type}}'}, 'job_outputs': {'model': {'type': 'custom_model'}}, 'inputs': {'model_type': <azure.ai.ml.entities._job.pipeline._io.base.NodeInput object at 0x7fc19fd52800>}, 'outputs': {'model': <azure.ai.ml.entities._job.pipeline._io.base.NodeOutput object at 0x7fc19fd53700>}, 'component': 'azureml_anonymous:75651cc4-1979-42cc-af2c-19632fe71a01', 'referenced_control_flow_node_instance_id': None, 'kwargs': {'services': None}, 'instance_id': 'bc21913c-47a5-4d81-865d-60d078a0797d', 'source': 'BUILDER', 'validate_required_input_not_provided': True, 'limits': None, 'identity': None, 'distribution': None, 'environment_variables': {}, 'environment': None, 'resources': None, 'queue_settings': None, 'parent_job_name': None, 'swept': False})}, 'job_types': {'command': 1}, 'job_sources': {'BUILDER': 1}, 'source_job_id': None}), 'type': 'pipeline', 'status': 'NotStarted', 'log_files': None, 'name': 'purple_fox_gb2ss0z0pp', 'description': 'Yolo Registration Pipeline', 'tags': {}, 'properties': {}, 'print_as_yaml': False, 'id': '/subscriptions/cad4de40-836d-424a-bdd6-3296c5c25179/resourceGroups/rgdaniel/providers/Microsoft.MachineLearningServices/workspaces/amldaniel/jobs/purple_fox_gb2ss0z0pp', 'Resource__source_path': '', 'base_path': '/home/daniel/repos/aml_demo/notebooks', 'creation_context': <azure.ai.ml.entities._system_data.SystemData object at 0x7fc19fd53220>, 'serialize': <msrest.serialization.Serializer object at 0x7fc19fd51ab0>, 'display_name': 'yolo_registration_pipeline', 'experiment_name': 'yolo_registration_experiment', 'compute': None, 'services': {'Tracking': {'endpoint': 'azureml://westeurope.api.azureml.ms/mlflow/v1.0/subscriptions/cad4de40-836d-424a-bdd6-3296c5c25179/resourceGroups/rgdaniel/providers/Microsoft.MachineLearningServices/workspaces/amldaniel?', 'type': 'Tracking'}, 'Studio': {'endpoint': 'https://ml.azure.com/runs/purple_fox_gb2ss0z0pp?wsid=/subscriptions/cad4de40-836d-424a-bdd6-3296c5c25179/resourcegroups/rgdaniel/workspaces/amldaniel&tid=8b87af7d-8647-4dc7-8df4-5f69a2011bb5', 'type': 'Studio'}}, 'settings': {}, 'identity': None, 'default_code': None, 'default_environment': None})"
      ]
     },
     "execution_count": 62,
     "metadata": {},
     "output_type": "execute_result"
    }
   ],
   "source": [
    "pipeline = yolo_registration_pipeline(\n",
    "    model_type=\"yolo11n.pt\",\n",
    ")\n",
    "ml_client.jobs.create_or_update(pipeline, experiment_name=\"yolo_registration_experiment\")"
   ]
  },
  {
   "cell_type": "code",
   "execution_count": null,
   "metadata": {},
   "outputs": [],
   "source": []
  }
 ],
 "metadata": {
  "kernelspec": {
   "display_name": ".venv",
   "language": "python",
   "name": "python3"
  },
  "language_info": {
   "codemirror_mode": {
    "name": "ipython",
    "version": 3
   },
   "file_extension": ".py",
   "mimetype": "text/x-python",
   "name": "python",
   "nbconvert_exporter": "python",
   "pygments_lexer": "ipython3",
   "version": "3.10.12"
  }
 },
 "nbformat": 4,
 "nbformat_minor": 2
}
