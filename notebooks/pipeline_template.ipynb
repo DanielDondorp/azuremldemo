{
    "cells": [
        {
            "cell_type": "markdown",
            "metadata": {},
            "source": [
                "### Imports"
            ]
        },
        {
            "cell_type": "code",
            "execution_count": 1,
            "metadata": {},
            "outputs": [],
            "source": [
                "# Standard Imports\n",
                "\n",
                "# Azure SDK Imports\n",
                "from azure.ai.ml import Input, MLClient, Output, command\n",
                "from azure.ai.ml.dsl import pipeline\n",
                "from azure.identity import DefaultAzureCredential\n",
                "\n",
                "# Third-party Imports\n",
                "\n",
                "# Local Imports"
            ]
        },
        {
            "cell_type": "markdown",
            "metadata": {},
            "source": [
                "### Initialize ML Client"
            ]
        },
        {
            "cell_type": "code",
            "execution_count": 2,
            "metadata": {},
            "outputs": [],
            "source": [
                "ml_client = MLClient(\n",
                "    credential=DefaultAzureCredential(),\n",
                "    subscription_id=\"<your_subscription_id>\",  # example: os.getenv(\"AML_SUBSCRIPTION_ID\"),\n",
                "    resource_group_name=\"<your_resource_group_name>\",\n",
                "    workspace_name=\"<your_workspace_name>\",\n",
                ")"
            ]
        },
        {
            "cell_type": "code",
            "execution_count": 3,
            "metadata": {},
            "outputs": [
                {
                    "name": "stderr",
                    "output_type": "stream",
                    "text": [
                        "Found the config file in: /home/daniel/repos/aml/config.json\n"
                    ]
                },
                {
                    "data": {
                        "text/plain": [
                            "MLClient(credential=<azure.identity._credentials.default.DefaultAzureCredential object at 0x7f241c339210>,\n",
                            "         subscription_id=11f51dee-57cd-4d47-b542-8e244706e163,\n",
                            "         resource_group_name=sbx-dondorp,\n",
                            "         workspace_name=amlsbxdondorp)"
                        ]
                    },
                    "execution_count": 3,
                    "metadata": {},
                    "output_type": "execute_result"
                }
            ],
            "source": [
                "ml_client.from_config(credential=DefaultAzureCredential())"
            ]
        },
        {
            "cell_type": "markdown",
            "metadata": {},
            "source": [
                "### Define Environment"
            ]
        },
        {
            "cell_type": "code",
            "execution_count": null,
            "metadata": {},
            "outputs": [],
            "source": [
                "environment_name = \"<your_environment_name>\"\n",
                "environment_version = \"<your_environment_version>\""
            ]
        },
        {
            "cell_type": "markdown",
            "metadata": {},
            "source": [
                "### Configure Job Component"
            ]
        },
        {
            "cell_type": "code",
            "execution_count": 13,
            "metadata": {},
            "outputs": [],
            "source": [
                "job_component = command(\n",
                "    code=\"./\",\n",
                "    command=\"python <your_script_name>.py\",\n",
                "    name=\"<your_job_name>\",\n",
                "    display_name=\"<your_job_display_name>\",  # Name for identification in the portal\n",
                "    compute=\"<your_compute_target>\",  # In our case the name of our compute cluster\n",
                "    environment=f\"azureml:{environment_name}:{environment_version}\",\n",
                "    inputs={\n",
                "        # Model Example\n",
                "        \"example_model\": Input(type=\"custom_model\", path=\"<registered_model_asset_id>\"),\n",
                "        # Folder Example\n",
                "        \"images\": Input(\n",
                "            type=\"uri_folder\",\n",
                "            path=\"azureml://subscriptions/<subscription_id>/resourcegroups/<your_resource_group>/workspaces/<your_workspace>/datastores/<your_datastore>/paths/<path_to_image_directory>/\",\n",
                "        ),\n",
                "    },\n",
                "    outputs={\"output_dir\": Output(type=\"uri_folder\", path=\"azureml://<output-path>/\")},\n",
                ")"
            ]
        },
        {
            "cell_type": "markdown",
            "metadata": {},
            "source": [
                "### Define Pipeline"
            ]
        },
        {
            "cell_type": "code",
            "execution_count": 14,
            "metadata": {},
            "outputs": [],
            "source": [
                "@pipeline()\n",
                "def run_pipeline():\n",
                "    outputs = job_component()\n",
                "    return outputs"
            ]
        },
        {
            "cell_type": "markdown",
            "metadata": {},
            "source": [
                "### Submit Pipeline Job"
            ]
        },
        {
            "cell_type": "code",
            "execution_count": null,
            "metadata": {},
            "outputs": [],
            "source": [
                "experiment_name = \"<your_experiment_name>\"\n",
                "pipeline_job = run_pipeline()\n",
                "job = ml_client.jobs.create_or_update(pipeline_job, experiment_name=experiment_name)\n",
                "ml_client.jobs.stream(job.name)"
            ]
        }
    ],
    "metadata": {
        "kernelspec": {
            "display_name": ".venv",
            "language": "python",
            "name": "python3"
        },
        "language_info": {
            "codemirror_mode": {
                "name": "ipython",
                "version": 3
            },
            "file_extension": ".py",
            "mimetype": "text/x-python",
            "name": "python",
            "nbconvert_exporter": "python",
            "pygments_lexer": "ipython3",
            "version": "3.10.12"
        }
    },
    "nbformat": 4,
    "nbformat_minor": 2
}
