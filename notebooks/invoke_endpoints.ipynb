{
 "cells": [
  {
   "cell_type": "code",
   "execution_count": 21,
   "id": "2bcf0444",
   "metadata": {},
   "outputs": [
    {
     "name": "stderr",
     "output_type": "stream",
     "text": [
      "Found the config file in: /home/daniel/repos/aml_demo/config.json\n"
     ]
    },
    {
     "name": "stderr",
     "output_type": "stream",
     "text": [
      "Overriding of current TracerProvider is not allowed\n",
      "Overriding of current LoggerProvider is not allowed\n",
      "Overriding of current MeterProvider is not allowed\n",
      "Attempting to instrument while already instrumented\n",
      "Attempting to instrument while already instrumented\n",
      "Attempting to instrument while already instrumented\n",
      "Attempting to instrument while already instrumented\n",
      "Attempting to instrument while already instrumented\n"
     ]
    },
    {
     "name": "stdout",
     "output_type": "stream",
     "text": [
      "MLClient created successfully.\n"
     ]
    }
   ],
   "source": [
    "#create the MLClient object\n",
    "from azure.ai.ml import MLClient\n",
    "from azure.identity import DefaultAzureCredential\n",
    "\n",
    "credential = DefaultAzureCredential()\n",
    "ml_client = MLClient.from_config(credential=credential)\n",
    "\n",
    "print(\"MLClient created successfully.\")"
   ]
  },
  {
   "cell_type": "code",
   "execution_count": 22,
   "id": "ccc67984",
   "metadata": {},
   "outputs": [],
   "source": [
    "from azure.ai.ml import Input, Output\n"
   ]
  },
  {
   "cell_type": "code",
   "execution_count": 50,
   "id": "04f8d6d9",
   "metadata": {},
   "outputs": [],
   "source": [
    "endpoints = ml_client.batch_endpoints.list()"
   ]
  },
  {
   "cell_type": "code",
   "execution_count": 51,
   "id": "5948f959",
   "metadata": {},
   "outputs": [
    {
     "name": "stdout",
     "output_type": "stream",
     "text": [
      "detectandsegment2\n"
     ]
    }
   ],
   "source": [
    "for endpoint in endpoints:\n",
    "    print(endpoint.name)"
   ]
  },
  {
   "cell_type": "code",
   "execution_count": 52,
   "id": "b66089e9",
   "metadata": {},
   "outputs": [
    {
     "name": "stdout",
     "output_type": "stream",
     "text": [
      "azureml_globaldatasets\n",
      "container_processed\n",
      "container_raw\n",
      "workspacefilestore\n",
      "workspaceblobstore\n",
      "workspaceworkingdirectory\n",
      "workspaceartifactstore\n"
     ]
    }
   ],
   "source": [
    "datastores  = ml_client.datastores.list()\n",
    "for datastore in datastores:\n",
    "    print(datastore.name)"
   ]
  },
  {
   "cell_type": "code",
   "execution_count": 53,
   "id": "5262a70d",
   "metadata": {},
   "outputs": [],
   "source": [
    "ds = ml_client.datastores.get(\"container_processed\")"
   ]
  },
  {
   "cell_type": "code",
   "execution_count": 54,
   "id": "40f65700",
   "metadata": {},
   "outputs": [],
   "source": [
    "from datetime import datetime"
   ]
  },
  {
   "cell_type": "code",
   "execution_count": 55,
   "id": "5160101e",
   "metadata": {},
   "outputs": [
    {
     "data": {
      "text/plain": [
       "'detectandsegment2'"
      ]
     },
     "execution_count": 55,
     "metadata": {},
     "output_type": "execute_result"
    }
   ],
   "source": [
    "endpoint.name"
   ]
  },
  {
   "cell_type": "code",
   "execution_count": 43,
   "id": "21014956",
   "metadata": {},
   "outputs": [
    {
     "data": {
      "text/plain": [
       "<azure.ai.ml._restclient.v2020_09_01_dataplanepreview.models._models_py3.BatchJobResource at 0x7fdfcc5b7400>"
      ]
     },
     "execution_count": 43,
     "metadata": {},
     "output_type": "execute_result"
    }
   ],
   "source": [
    "ml_client.batch_endpoints.invoke(\n",
    "    endpoint_name=endpoint.name,\n",
    "    inputs={\"name\": Input(type=\"string\", default=\"Look_We_Invoked_an_Endpoint\")},\n",
    "    params_override=[{\"output_dataset.datastore_id\": f\"azureml:{ds.id}\"},\n",
    "                     {\"output_dataset.path\": f\"/{endpoint.name}/{datetime.now().strftime('%Y-%m-%d')}_score\"},]\n",
    ")"
   ]
  },
  {
   "cell_type": "code",
   "execution_count": 56,
   "id": "b370985f",
   "metadata": {},
   "outputs": [
    {
     "name": "stdout",
     "output_type": "stream",
     "text": [
      "Invoking endpoint detectandsegment2 for the 0th time\n",
      "Invoking endpoint detectandsegment2 for the 1th time\n",
      "Invoking endpoint detectandsegment2 for the 2th time\n"
     ]
    }
   ],
   "source": [
    "for i in range(3):\n",
    "    print(f\"Invoking endpoint {endpoint.name} for the {i}th time\")\n",
    "    ml_client.batch_endpoints.invoke(\n",
    "        endpoint_name=endpoint.name,\n",
    "        job_name=f\"try_{i}th_invocation\",\n",
    "        display_name=f\"try_{i}th_invocation\",\n",
    "        experiment_name=\"batch_endpoint_experiment\",\n",
    "        description=\"This is a test of the batch endpoint\",\n",
    "        inputs={\"input_path\": Input(type=\"uri_folder\", path=\"azureml://datastores/container_raw/paths/coco128/\"), \n",
    "                \"model\": Input(type=\"custom_model\", path=\"azureml://separate_yolo_100:2\"),\n",
    "                \"segmentation_model\": Input(type=\"custom_model\", path=\"azureml://sam2model:1\")},\n",
    "        params_override=[{\"output_dataset.datastore_id\": f\"azureml:{ds.id}\"},\n",
    "                         {\"output_dataset.path\": f\"/{endpoint.name}/{datetime.now().strftime('%Y-%m-%d')}_score\"},]\n",
    "    )\n",
    "    time.sleep(5)"
   ]
  },
  {
   "cell_type": "code",
   "execution_count": null,
   "id": "d145bf11",
   "metadata": {},
   "outputs": [],
   "source": []
  }
 ],
 "metadata": {
  "kernelspec": {
   "display_name": ".venv",
   "language": "python",
   "name": "python3"
  },
  "language_info": {
   "codemirror_mode": {
    "name": "ipython",
    "version": 3
   },
   "file_extension": ".py",
   "mimetype": "text/x-python",
   "name": "python",
   "nbconvert_exporter": "python",
   "pygments_lexer": "ipython3",
   "version": "3.10.12"
  }
 },
 "nbformat": 4,
 "nbformat_minor": 5
}
